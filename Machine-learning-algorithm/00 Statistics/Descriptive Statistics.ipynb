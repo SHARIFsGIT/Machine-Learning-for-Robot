{
 "cells": [
  {
   "cell_type": "markdown",
   "metadata": {},
   "source": [
    "## Descriptive Statistics\n",
    "\n",
    "- Today i am going to discuss Only Central Tendency i.e Mean,Median And Mode"
   ]
  },
  {
   "cell_type": "markdown",
   "metadata": {},
   "source": [
    "## 1.  Mean,Median,Mode With Libraries"
   ]
  },
  {
   "cell_type": "markdown",
   "metadata": {},
   "source": [
    "## Mean :\n",
    "\n",
    "- SO What is mean ?\n",
    " Mean is just average of total number.\n",
    " \n",
    " Given set of numbers : [n1, n2, n3, n5, n6]\n",
    "\n",
    "Sum of data-set = (n1 + n2 + n3 + n4 + n5)\n",
    "Number of data produced = 5\n",
    "\n",
    "Average or arithmetic mean  = (n1 + n2 + n3 + n4 + n5) / 5\n",
    "\n",
    "\n",
    "### First we have to import statistics then we can find mean"
   ]
  },
  {
   "cell_type": "code",
   "execution_count": 1,
   "metadata": {},
   "outputs": [
    {
     "name": "stdout",
     "output_type": "stream",
     "text": [
      "Mean is : 4.428571428571429\n"
     ]
    }
   ],
   "source": [
    "# Implement In Python\n",
    "\n",
    "# Python program to demonstrate mean() \n",
    "\n",
    "# Importing the statistics module \n",
    "import statistics \n",
    "\n",
    "# list of positive integer numbers \n",
    "data1 = [1, 3, 4, 5, 7, 9, 2] \n",
    "\n",
    "x = statistics.mean(data1) \n",
    "\n",
    "# Printing the mean \n",
    "print(\"Mean is :\", x) \n"
   ]
  },
  {
   "cell_type": "markdown",
   "metadata": {},
   "source": [
    "Applications :\n",
    "\n",
    "Mean/Arithmetic average is one of the very important function, while working with statistics and large values. So, with the function like mean(), trending and featured values can be extracted from the large data sets."
   ]
  },
  {
   "cell_type": "markdown",
   "metadata": {},
   "source": [
    "## Median\n",
    "\n",
    "- median() function in the statistics module can be used to calculate median value from an unsorted data-list. The biggest advantage of using median() function is that the data-list does not need to be sorted before being sent as parameter to the median() function.\n",
    "\n",
    "- It is the middle value of data\n",
    " Here It have two condition\n",
    " \n",
    " If n id odd - then middle value is median\n",
    " But if n is even then median is avg of two middle value\n",
    " \n",
    "#### Eg. n is odd\n",
    "\n",
    "8,7,9,6,5,4,2 Median = 6 (As it is middle value)\n",
    "\n",
    "##### Eg. n is even \n",
    "\n",
    "1,3,5,5,5,7,8,9,10,10 Median = 5+7/2 = 6 (Avg of two mid value) (Only +ve number)"
   ]
  },
  {
   "cell_type": "code",
   "execution_count": 3,
   "metadata": {},
   "outputs": [
    {
     "name": "stdout",
     "output_type": "stream",
     "text": [
      "Median is : 6\n",
      "Median is : 6.0\n"
     ]
    }
   ],
   "source": [
    "# Python program to demonstrate median() \n",
    "\n",
    "# Importing the statistics module \n",
    "import statistics \n",
    "\n",
    "# list of positive integer numbers \n",
    "data1 = [8,7,9,6,5,4,2] #odd\n",
    "data2 = [1,3,5,5,5,7,8,9,10,10] #even\n",
    "\n",
    "x = statistics.median(data1) \n",
    "y = statistics.median(data2) \n",
    "\n",
    "# Printing the mean \n",
    "print(\"Median is :\", x) \n",
    "print(\"Median is :\", y) "
   ]
  },
  {
   "cell_type": "code",
   "execution_count": 4,
   "metadata": {},
   "outputs": [
    {
     "name": "stdout",
     "output_type": "stream",
     "text": [
      "Median of data-set 1 is 5\n",
      "Median of data-set 2 is 5.9\n",
      "Median of data-set 3 is 2\n",
      "Median of data-set 4 is -5\n",
      "Median of data-set 5 is 0.0\n"
     ]
    }
   ],
   "source": [
    "# working of median() on various \n",
    "# range of data-sets \n",
    "\n",
    "# importing the statistics module \n",
    "from statistics import median \n",
    "\n",
    "# Importing fractions module as fr \n",
    "from fractions import Fraction as fr \n",
    "\n",
    "# tuple of positive integer numbers \n",
    "data1 = (2, 3, 4, 5, 7, 9, 11) \n",
    "\n",
    "# tuple of floating point values \n",
    "data2 = (2.4, 5.1, 6.7, 8.9) \n",
    "\n",
    "# tuple of fractional numbers \n",
    "data3 = (fr(1, 2), fr(44, 12), fr(10, 3), fr(2, 3)) \n",
    "\n",
    "# tuple of a set of negative integers \n",
    "data4 = (-5, -1, -12, -19, -3) \n",
    "\n",
    "# tuple of set of positive \n",
    "# and negative integers \n",
    "data5 = (-1, -2, -3, -4, 4, 3, 2, 1) \n",
    "\n",
    "# Printing the median of above datsets \n",
    "print(\"Median of data-set 1 is % s\" % (median(data1))) \n",
    "print(\"Median of data-set 2 is % s\" % (median(data2))) \n",
    "print(\"Median of data-set 3 is % s\" % (median(data3))) \n",
    "print(\"Median of data-set 4 is % s\" % (median(data4))) \n",
    "print(\"Median of data-set 5 is % s\" % (median(data5))) \n"
   ]
  },
  {
   "cell_type": "markdown",
   "metadata": {},
   "source": [
    "Applications :\n",
    "For practical applications, different measures of dispersion and population tendency are compared on basis how well the corresponding population values can be estimated. "
   ]
  },
  {
   "cell_type": "markdown",
   "metadata": {},
   "source": [
    "## Mode\n",
    "\n",
    "- The mode of a set of data values is the value that appears most often. It is the value at which the data is most likely to be sampled. A mode of a continuous probability distribution is often considered to be any value x at which its probability density function has a locally maximum value, so any peak is a mode.\n",
    "\n",
    "- It is the frequency of occurance of data\n",
    "\n",
    "- Means which data occured more number of time\n",
    "\n",
    "Eg.\n",
    "\n",
    "3,9,5,10,10,1,7,8,5,5  Mode = 5 (It Occure 3 times)\n",
    "\n",
    "### Note - A dataset have more than one Mode Value ."
   ]
  },
  {
   "cell_type": "code",
   "execution_count": 5,
   "metadata": {},
   "outputs": [
    {
     "name": "stdout",
     "output_type": "stream",
     "text": [
      "Mode of given data set is 4\n"
     ]
    }
   ],
   "source": [
    "# Python code to demonstrate the \n",
    "# use of mode() function\n",
    "\n",
    "import statistics\n",
    "\n",
    "# positive integers.\n",
    "set1 =[1, 2, 3, 3, 4, 4, 4, 5, 5, 6]\n",
    "\n",
    "# Printing out mode of given data-set\n",
    "print(\"Mode of given data set is % s\" % (statistics.mode(set1)))\n"
   ]
  },
  {
   "cell_type": "markdown",
   "metadata": {},
   "source": [
    "Applications : \n",
    "The mode() is a statistics function and mostly used in Financial Sectors to compare values/prices with past details, calculate/predict probable future prices from a price distribution set. mean() is not used separately but along with two other pillars of statistics mean and median creates a very powerful tool which can be used to reveal any aspect of your data. "
   ]
  },
  {
   "cell_type": "markdown",
   "metadata": {},
   "source": [
    "## 2. Now We Implement Mean,Median,Mode Without Libraries"
   ]
  },
  {
   "cell_type": "markdown",
   "metadata": {},
   "source": [
    "## Mean"
   ]
  },
  {
   "cell_type": "raw",
   "metadata": {},
   "source": [
    "# Python program to print \n",
    "# mean of elements \n",
    "\n",
    "# list of elements to calculate mean \n",
    "n_num = [1, 2, 3, 4, 5] \n",
    "n = len(n_num) \n",
    "\n",
    "sum = sum(n_num) \n",
    "mean = sum / n \n",
    "\n",
    "print(\"Mean / Average is: \" + str(mean)) "
   ]
  },
  {
   "cell_type": "markdown",
   "metadata": {},
   "source": [
    "## Median"
   ]
  },
  {
   "cell_type": "raw",
   "metadata": {},
   "source": [
    "# Python program to print \n",
    "# median of elements \n",
    "\n",
    "# list of elements to calculate median \n",
    "n_num = [1, 2, 3, 4, 5] \n",
    "n = len(n_num) \n",
    "n_num.sort() \n",
    "\n",
    "if n % 2 == 0: \n",
    "    medan1 = n_num[n//2] \n",
    "    median2 = n_num[n//2 - 1] \n",
    "    median = (median1 + median2)/2\n",
    "else: \n",
    "    median = n_num[n//2] \n",
    "print(\"Median is: \" + str(median)) \n"
   ]
  },
  {
   "cell_type": "markdown",
   "metadata": {},
   "source": [
    "## Mode"
   ]
  },
  {
   "cell_type": "raw",
   "metadata": {},
   "source": [
    "# Python program to print \n",
    "# mode of elements \n",
    "from collections import Counter \n",
    "\n",
    "# list of elements to calculate mode \n",
    "n_num = [1, 2, 3, 4, 5, 5] \n",
    "n = len(n_num) \n",
    "\n",
    "data = Counter(n_num) \n",
    "get_mode = dict(data) \n",
    "\n",
    "mode = [k for k, v in get_mode.items() if v == max(list(data.values()))] \n",
    "\n",
    "if len(mode) == n: \n",
    "    get_mode = \"No mode found\"\n",
    "else: \n",
    "    get_mode = \"Mode is: \" + ', '.join(map(str, mode)) \n",
    "\n",
    "print(get_mode) \n"
   ]
  }
 ],
 "metadata": {
  "kernelspec": {
   "display_name": "Python 3",
   "language": "python",
   "name": "python3"
  },
  "language_info": {
   "codemirror_mode": {
    "name": "ipython",
    "version": 3
   },
   "file_extension": ".py",
   "mimetype": "text/x-python",
   "name": "python",
   "nbconvert_exporter": "python",
   "pygments_lexer": "ipython3",
   "version": "3.7.6"
  }
 },
 "nbformat": 4,
 "nbformat_minor": 4
}
