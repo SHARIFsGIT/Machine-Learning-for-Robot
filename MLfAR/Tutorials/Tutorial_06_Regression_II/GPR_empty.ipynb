{
 "cells": [
  {
   "cell_type": "code",
   "execution_count": null,
   "id": "5a6fcfe4",
   "metadata": {},
   "outputs": [],
   "source": [
    "import numpy as np\n",
    "from scipy.spatial.distance import pdist, cdist\n",
    "import matplotlib.pyplot as plt"
   ]
  },
  {
   "cell_type": "code",
   "execution_count": null,
   "id": "8c9e6597",
   "metadata": {},
   "outputs": [],
   "source": [
    "# create a function to return the Gram Matrix\n",
    "def kernel(X,Y=None, length_scale=1.0, gamma_f=1.0, gamma_n=1.0):\n",
    "    if Y is None:\n",
    "        Y = X\n",
    "        # calculate the square kronecker matrix\n",
    "        D = ...\n",
    "    else:\n",
    "        D = np.zeros((X.shape[0],Y.shape[0]))\n",
    "        # calculate non-square kronecker matrix\n",
    "        ...\n",
    "    \n",
    "    # calculate the \n",
    "    # use the method 'cdist' with the argument `metric=\"sqeuclidean\"`\n",
    "    dists = ...\n",
    "    # calculate the gram Matrix\n",
    "    K = ...\n",
    "    return K"
   ]
  },
  {
   "cell_type": "code",
   "execution_count": null,
   "id": "b0580cb6",
   "metadata": {},
   "outputs": [],
   "source": [
    "# observations\n",
    "X = np.array([[-1.5, -1.0, -0.75, -0.4, -0.25, 0.0]]).T\n",
    "# new estimate\n",
    "x_s = np.array([[0.2]]).T\n",
    "\n",
    "# calculate K, K* and K**\n",
    "K = ...\n",
    "K_s = ...\n",
    "K_ss = ...\n",
    "print(K)\n",
    "print(K_s)\n",
    "print(K_ss)"
   ]
  },
  {
   "cell_type": "code",
   "execution_count": null,
   "id": "da063fb0",
   "metadata": {},
   "outputs": [],
   "source": [
    "y = np.array([[-1.65, -1.1, -0.35, 0.2, 0.52, 0.85]])\n",
    "\n",
    "# perform a prediction given the observed targets y\n",
    "# invert K\n",
    "Kinv = ...\n",
    "\n",
    "# calculate the mean of y*\n",
    "mean_y_s = ...\n",
    "# calculate the variance of y*\n",
    "var_y_s = ...\n",
    "\n",
    "print(mean_y_s)\n",
    "print(var_y_s)"
   ]
  },
  {
   "cell_type": "code",
   "execution_count": null,
   "id": "0e3c9358",
   "metadata": {},
   "outputs": [],
   "source": []
  }
 ],
 "metadata": {
  "kernelspec": {
   "display_name": "Python 3 (ipykernel)",
   "language": "python",
   "name": "python3"
  },
  "language_info": {
   "codemirror_mode": {
    "name": "ipython",
    "version": 3
   },
   "file_extension": ".py",
   "mimetype": "text/x-python",
   "name": "python",
   "nbconvert_exporter": "python",
   "pygments_lexer": "ipython3",
   "version": "3.8.10"
  }
 },
 "nbformat": 4,
 "nbformat_minor": 5
}
