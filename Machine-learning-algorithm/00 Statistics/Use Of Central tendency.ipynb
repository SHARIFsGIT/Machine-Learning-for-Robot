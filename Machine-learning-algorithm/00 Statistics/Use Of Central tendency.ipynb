{
 "cells": [
  {
   "cell_type": "markdown",
   "metadata": {},
   "source": [
    "## Application Of Mean,median And Mode\n",
    "\n",
    "- Basically We Use This for find Skewness and kurtosis Of data"
   ]
  },
  {
   "cell_type": "markdown",
   "metadata": {},
   "source": [
    "## 1. Skewness\n",
    "\n",
    "- Skewness is a statistical numerical method to measure the asymmetry of the distribution or data set. It tells about the position of the majority of data values in the distribution around the mean value.\n",
    "\n",
    "Formula For Skewness Calculate:\n",
    "<img src=\"3.svg\" width=300>\n",
    "\n",
    "### OR\n",
    "\n",
    "<img src=\"3.jpg\" width=500>\n",
    "\n",
    "γ1 represents coefficient of skewness\n",
    " \n",
    "xi represents ith value in data vector\n",
    "\n",
    "xbar represents mean of data vector\n",
    "\n",
    "n represents total number of observations\n",
    "\n",
    "There exist 3 types of skewness values on the basis of which asymmetry of the graph is decided. These are as follows:\n",
    "   1. Positive Skew(Right Skew)\n",
    "   2. Negative Skew(Left Skew)\n",
    "   3. Normal DIstribution"
   ]
  },
  {
   "cell_type": "raw",
   "metadata": {},
   "source": [
    "skewness = 0 : normally distributed.\n",
    "skewness > 0 : more weight in the left tail of the distribution.\n",
    "skewness < 0 : more weight in the right tail of the distribution. "
   ]
  },
  {
   "cell_type": "markdown",
   "metadata": {},
   "source": [
    "### 1. Positive Skew (Right Skew)"
   ]
  },
  {
   "cell_type": "markdown",
   "metadata": {},
   "source": [
    "- If the coefficient of skewness is greater than 0 i.e. γ1>0, then the graph is said to be positively skewed with the majority of data values less than mean. Most of the values are concentrated on the left side of the graph.\n",
    "\n",
    "###  Here Mainly Mean > Median \n",
    "\n",
    "- when Average of data is greate than middle Value then This occure"
   ]
  },
  {
   "cell_type": "markdown",
   "metadata": {},
   "source": [
    "#### Example"
   ]
  },
  {
   "cell_type": "code",
   "execution_count": 1,
   "metadata": {},
   "outputs": [],
   "source": [
    "import matplotlib.pyplot as plt\n",
    "import seaborn as sns\n",
    "from scipy.stats import skew\n",
    "from statistics import mean,median,mode,stdev"
   ]
  },
  {
   "cell_type": "code",
   "execution_count": 2,
   "metadata": {},
   "outputs": [
    {
     "data": {
      "text/plain": [
       "<matplotlib.axes._subplots.AxesSubplot at 0x295ebb714c8>"
      ]
     },
     "execution_count": 2,
     "metadata": {},
     "output_type": "execute_result"
    },
    {
     "data": {
      "image/png": "[encoded data removed]",
      "text/plain": [
       "<Figure size 432x288 with 1 Axes>"
      ]
     },
     "metadata": {
      "needs_background": "light"
     },
     "output_type": "display_data"
    }
   ],
   "source": [
    "a = [1,1,2,2,3,4,8,6,100,101,110]\n",
    "sns.distplot(a)"
   ]
  },
  {
   "cell_type": "code",
   "execution_count": 3,
   "metadata": {},
   "outputs": [
    {
     "name": "stdout",
     "output_type": "stream",
     "text": [
      "mean is:  30.727272727272727\n",
      "Median is:  4\n"
     ]
    }
   ],
   "source": [
    "print(\"mean is: \",mean(a))\n",
    "print(\"Median is: \",median(a))"
   ]
  },
  {
   "cell_type": "markdown",
   "metadata": {},
   "source": [
    "#### In The above you clearly see that Mean > Median So it is Positive Skew Or Right Skew"
   ]
  },
  {
   "cell_type": "code",
   "execution_count": 4,
   "metadata": {},
   "outputs": [
    {
     "name": "stdout",
     "output_type": "stream",
     "text": [
      "1.0234453599856792\n"
     ]
    }
   ],
   "source": [
    "print(skew(a)) "
   ]
  },
  {
   "cell_type": "markdown",
   "metadata": {},
   "source": [
    "### Here  You see the Value of skew is +1 so it is positive skew"
   ]
  },
  {
   "cell_type": "markdown",
   "metadata": {},
   "source": [
    "### 2. Negative Skew (Left Skew)\n",
    "\n",
    "- If the coefficient of skewness is less than 0 i.e. γ1<0, then the graph is said to be negatively skewed with the majority of data values greater than mean. Most of the values are concentrated on the right side of the graph.\n",
    "\n",
    "### Here Mainly Median > Mean "
   ]
  },
  {
   "cell_type": "code",
   "execution_count": 5,
   "metadata": {},
   "outputs": [
    {
     "data": {
      "text/plain": [
       "<matplotlib.axes._subplots.AxesSubplot at 0x295ec2c5e08>"
      ]
     },
     "execution_count": 5,
     "metadata": {},
     "output_type": "execute_result"
    },
    {
     "data": {
      "image/png": "[encoded data removed]",
      "text/plain": [
       "<Figure size 432x288 with 1 Axes>"
      ]
     },
     "metadata": {
      "needs_background": "light"
     },
     "output_type": "display_data"
    }
   ],
   "source": [
    "b = [2,3,4,100,101,110,200,250,160,140,150,180]\n",
    "sns.distplot(b)"
   ]
  },
  {
   "cell_type": "code",
   "execution_count": 6,
   "metadata": {},
   "outputs": [
    {
     "name": "stdout",
     "output_type": "stream",
     "text": [
      "mean is:  116.66666666666667\n",
      "Median is:  125.0\n"
     ]
    }
   ],
   "source": [
    "print(\"mean is: \",mean(b))\n",
    "print(\"Median is: \",median(b))"
   ]
  },
  {
   "cell_type": "markdown",
   "metadata": {},
   "source": [
    "#### Here you Clearly see Median > Mean So it is Negative skew"
   ]
  },
  {
   "cell_type": "code",
   "execution_count": 7,
   "metadata": {},
   "outputs": [
    {
     "name": "stdout",
     "output_type": "stream",
     "text": [
      "-0.1954666401997703\n"
     ]
    }
   ],
   "source": [
    "print(skew(b)) "
   ]
  },
  {
   "cell_type": "markdown",
   "metadata": {},
   "source": [
    "### Here  skew value -ve so it is negative"
   ]
  },
  {
   "cell_type": "markdown",
   "metadata": {},
   "source": [
    "Both Skew\n",
    "<img src = \"5.jpg\">"
   ]
  },
  {
   "cell_type": "markdown",
   "metadata": {},
   "source": [
    "### Now a question ariese why this type of skewness we see in graph ?\n",
    "\n",
    "Ans - This skewness is cause bacause of outlier. so when your data contain outlier value then this type of skew is present. so after that we nedd to resolve the outlier by using various outlier treatment mechanism like apply Log value or aaply z-score and many more."
   ]
  },
  {
   "cell_type": "markdown",
   "metadata": {},
   "source": [
    "### 3.Normal Distribution (No Skew)\n",
    "\n",
    "- See Here No outlier present so this graph look like gaussian distribution or normal distribution. we nedd to always make graph normal for machine learning model\n",
    "\n",
    "- If the coefficient of skewness is equal to 0 or approximately close to 0 i.e. γ1=0, then the graph is said to be symmetric and data is normally distributed.\n",
    "\n"
   ]
  },
  {
   "cell_type": "code",
   "execution_count": 8,
   "metadata": {},
   "outputs": [
    {
     "data": {
      "text/plain": [
       "<matplotlib.axes._subplots.AxesSubplot at 0x295ec395788>"
      ]
     },
     "execution_count": 8,
     "metadata": {},
     "output_type": "execute_result"
    },
    {
     "data": {
      "image/png": "[encoded data removed]",
      "text/plain": [
       "<Figure size 432x288 with 1 Axes>"
      ]
     },
     "metadata": {
      "needs_background": "light"
     },
     "output_type": "display_data"
    }
   ],
   "source": [
    "c=[1,1,2,3,4,5,2,4,6,9,8,2,4,5,6,4]\n",
    "sns.distplot(c)"
   ]
  },
  {
   "cell_type": "code",
   "execution_count": 9,
   "metadata": {},
   "outputs": [
    {
     "name": "stdout",
     "output_type": "stream",
     "text": [
      "mean is:  4.125\n",
      "Median is:  4.0\n"
     ]
    }
   ],
   "source": [
    "print(\"mean is: \",mean(c))\n",
    "print(\"Median is: \",median(c))"
   ]
  },
  {
   "cell_type": "markdown",
   "metadata": {},
   "source": [
    "### See here Mean and Median Value Almost Same"
   ]
  },
  {
   "cell_type": "code",
   "execution_count": 10,
   "metadata": {},
   "outputs": [
    {
     "name": "stdout",
     "output_type": "stream",
     "text": [
      "0.5266195519509043\n"
     ]
    }
   ],
   "source": [
    "print(skew(c)) "
   ]
  },
  {
   "cell_type": "markdown",
   "metadata": {},
   "source": [
    "### And Skew Value is 0 So This is the graph we nedd for further model build"
   ]
  },
  {
   "cell_type": "markdown",
   "metadata": {},
   "source": [
    "<img src=\"2.png\">"
   ]
  }
 ],
 "metadata": {
  "kernelspec": {
   "display_name": "Python 3",
   "language": "python",
   "name": "python3"
  },
  "language_info": {
   "codemirror_mode": {
    "name": "ipython",
    "version": 3
   },
   "file_extension": ".py",
   "mimetype": "text/x-python",
   "name": "python",
   "nbconvert_exporter": "python",
   "pygments_lexer": "ipython3",
   "version": "3.7.6"
  }
 },
 "nbformat": 4,
 "nbformat_minor": 4
}
