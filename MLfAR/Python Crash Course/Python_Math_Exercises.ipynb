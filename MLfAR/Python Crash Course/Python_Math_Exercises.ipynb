{
 "cells": [
  {
   "cell_type": "markdown",
   "id": "45269458-d99f-44ed-9ff2-3d83c2c0bc6c",
   "metadata": {},
   "source": [
    "# Python & Math Exercises\n",
    "In this notebook we will practice some Python and Math."
   ]
  },
  {
   "cell_type": "markdown",
   "id": "fccc10f5",
   "metadata": {},
   "source": [
    "Before running the notebook, run<br>\n",
    "`conda create --name <env_name> --file requirements.txt`"
   ]
  },
  {
   "cell_type": "code",
   "execution_count": null,
   "id": "97c4b3bd-0dae-4f2a-86a3-8ccaa7d637aa",
   "metadata": {},
   "outputs": [],
   "source": [
    "import numpy as np\n",
    "import scipy\n",
    "import matplotlib.pyplot as plt\n",
    "import codecs, json \n",
    "import PIL"
   ]
  },
  {
   "cell_type": "markdown",
   "id": "4327b9c3-4a3a-4f61-81be-f93964f2cf7b",
   "metadata": {},
   "source": [
    "## 1. Neural Networks are *just* linear algebra\n",
    "![title]() \n",
    "<center><img src=https://www.kindpng.com/picc/m/52-526861_meme-linear-algebra-funny-hd-png-download.png      width=200 height=200 /></center>\n",
    "\n",
    "In this task we will get a preview of the \"magic\" of neural networks while practicing some basic python functions.<br>\n",
    "Our goal will be to recognize handwritten digits by multiplying their images with matrices from a neural network\n",
    "\n",
    "<center><img src=https://raw.githubusercontent.com/GondorCallsForAid/Python-Video-Notebooks/main/Exercises/Images/neural_net_exercise_explanation.png /></center>\n"
   ]
  },
  {
   "cell_type": "markdown",
   "id": "77660058-eb0d-41d0-81c6-2bd36f6a190c",
   "metadata": {},
   "source": [
    "### 1.1 Load MNIST images as arrays using PIL and Numpy\n",
    "Write a function that takes an integer from `0-9` and returns the according MNIST image as an array.<br>\n",
    "You may use the imported functions/modules\n",
    "<table><tr>\n",
    "<td> <img src=\"mnist_images/0.jpg\" style=\"width: 250px;\"/> </td>\n",
    "<td> <img src=\"mnist_images/1.jpg\" style=\"width: 250px;\"/> </td>\n",
    "<td> <img src=\"mnist_images/2.jpg\" style=\"width: 250px;\"/> </td>\n",
    "<td> <img src=\"mnist_images/3.jpg\" style=\"width: 250px;\"/> </td>\n",
    "<td> <img src=\"mnist_images/4.jpg\" style=\"width: 250px;\"/> </td>\n",
    "<td> <img src=\"mnist_images/5.jpg\" style=\"width: 250px;\"/> </td>\n",
    "<td> <img src=\"mnist_images/6.jpg\" style=\"width: 250px;\"/> </td>\n",
    "<td> <img src=\"mnist_images/7.jpg\" style=\"width: 250px;\"/> </td>\n",
    "<td> <img src=\"mnist_images/8.jpg\" style=\"width: 250px;\"/> </td>\n",
    "<td> <img src=\"mnist_images/9.jpg\" style=\"width: 250px;\"/> </td>\n",
    "</tr></table>"
   ]
  },
  {
   "cell_type": "code",
   "execution_count": null,
   "id": "54118d22-6967-4a0c-b05a-53f5c4d5f5b8",
   "metadata": {},
   "outputs": [],
   "source": [
    "from PIL import Image\n",
    "from numpy import asarray\n",
    "\n",
    "def load_image(digit):\n",
    "    pass"
   ]
  },
  {
   "cell_type": "markdown",
   "id": "2158c919-de8f-4ee3-835d-4efa2044b23a",
   "metadata": {},
   "source": [
    "test your function<br>\n",
    "the shape of the image array should be `(28, 28)`"
   ]
  },
  {
   "cell_type": "code",
   "execution_count": null,
   "id": "abbfe73a-0b04-436b-b479-266baad08b29",
   "metadata": {},
   "outputs": [],
   "source": [
    "image_as_array = load_image(1)\n",
    "image_as_array.shape"
   ]
  },
  {
   "cell_type": "markdown",
   "id": "02d5afe7-ee62-4eff-9377-d292bffe6a40",
   "metadata": {},
   "source": [
    "<br>\n",
    "\n",
    "### 1.2 Flattening the image\n",
    "Write a function that flattens the image."
   ]
  },
  {
   "cell_type": "code",
   "execution_count": null,
   "id": "eec387df-94ea-4f1a-9757-4da55eba7cc1",
   "metadata": {},
   "outputs": [],
   "source": [
    "def flatten_image(img):\n",
    "    pass"
   ]
  },
  {
   "cell_type": "markdown",
   "id": "6170c119-3474-41db-8eda-5fb335686d53",
   "metadata": {},
   "source": [
    "test your function"
   ]
  },
  {
   "cell_type": "code",
   "execution_count": null,
   "id": "9111434a-06eb-4d88-9be8-5ee26eefad87",
   "metadata": {},
   "outputs": [],
   "source": [
    "image_flattened = flatten_image(image_as_array)\n",
    "print(image_flattened.shape)"
   ]
  },
  {
   "cell_type": "markdown",
   "id": "48dbd2d4-ba11-43b2-a389-75c5816f2433",
   "metadata": {},
   "source": [
    "the shape of the array should be `(784,)`"
   ]
  },
  {
   "cell_type": "markdown",
   "id": "f5670f59-743a-4f44-a52e-09ac15c77394",
   "metadata": {},
   "source": [
    "<br>\n",
    "\n",
    "### 1.3 Multiply with matrices"
   ]
  },
  {
   "cell_type": "code",
   "execution_count": null,
   "id": "3ef97af3-89ed-4b97-84cc-cf2b68c2f932",
   "metadata": {},
   "outputs": [],
   "source": [
    "obj_text = codecs.open(\"matrices\", 'r', encoding='utf-8').read()\n",
    "b_new = json.loads(obj_text)\n",
    "matrices = list(b_new)"
   ]
  },
  {
   "cell_type": "markdown",
   "id": "5c173ace-35a3-4ef4-9fe8-1fc848886b86",
   "metadata": {},
   "source": [
    "Write a function that multiplies the flattened image with the matrices taken from the neural network and returns the result.<br>\n",
    "`matrices` is a list containing 3 matrices"
   ]
  },
  {
   "cell_type": "code",
   "execution_count": null,
   "id": "a980218a-47ac-401c-8247-a016766bbced",
   "metadata": {},
   "outputs": [],
   "source": [
    "def multiply_with_matrices(img, matrices):\n",
    "    pass"
   ]
  },
  {
   "cell_type": "markdown",
   "id": "93ba7dfe-d215-4e70-a0a4-d10d997ab469",
   "metadata": {},
   "source": [
    "test your function<br>\n",
    "the shape of the array should be `(10, )`"
   ]
  },
  {
   "cell_type": "code",
   "execution_count": null,
   "id": "ce92d6cd-1dea-412d-9db8-cbb9c22d50c6",
   "metadata": {},
   "outputs": [],
   "source": [
    "output = multiply_with_matrices(image_flattened, matrices)\n",
    "output.shape"
   ]
  },
  {
   "cell_type": "markdown",
   "id": "b157d985-8bb5-48c1-82d8-e27ada26d54d",
   "metadata": {},
   "source": [
    "<br>\n",
    "\n",
    "### 1.4 Apply softmax and get index of highest value\n",
    "Write a function that applies the softmax function to our array and then returns the index of the highest value."
   ]
  },
  {
   "cell_type": "code",
   "execution_count": null,
   "id": "833eca4a-2da2-42cd-ae70-67b2f11f36af",
   "metadata": {},
   "outputs": [],
   "source": [
    "from scipy.special import softmax"
   ]
  },
  {
   "cell_type": "code",
   "execution_count": null,
   "id": "ea69bdac-4d4b-4e6e-86c2-7a7079d0f709",
   "metadata": {},
   "outputs": [],
   "source": [
    "def soft_highest_idx(arr):\n",
    "    pass\n",
    "    "
   ]
  },
  {
   "cell_type": "code",
   "execution_count": null,
   "id": "d53e0790-84c7-454f-b86c-520f1e9ed9e9",
   "metadata": {},
   "outputs": [],
   "source": [
    "recognized_digit = soft_highest_idx(output)\n",
    "recognized_digit"
   ]
  },
  {
   "cell_type": "markdown",
   "id": "f8b6ca47-26b9-4545-80e5-6790c3e894b3",
   "metadata": {},
   "source": [
    "<br>\n",
    "\n",
    "### 1.5 Putting everything together\n",
    "Put everything together to produce the following plot.<br>\n",
    "The titles of the images should be whatever we get as a prediction by multiplying the images with the matrices.\n",
    "<center><img src=\"putting_everything_together.png\"     width=500 height=500 /></center>\n"
   ]
  },
  {
   "cell_type": "markdown",
   "id": "e4467abb-3393-4ee7-910e-21bf4dfffee2",
   "metadata": {},
   "source": [
    "<br>\n",
    "<br>\n",
    "\n",
    "## 2. From **Uniform** to **Normal** distribution (central limit theorem)\n",
    "According to the central limit theorem the sampled means of distributions such as the uniform distribution will be normally distributed.<br>\n",
    "Show this using numpy and matplotlib.<br>\n",
    "The plot should look close to the following image.<br>\n",
    "\n",
    "[Video about the central limit theorem](https://www.youtube.com/watch?v=YAlJCEDH2uY)\n",
    "\n",
    "\n",
    "<center><img src=\"limit.png\"     width=500 height=500 /></center>\n"
   ]
  },
  {
   "cell_type": "code",
   "execution_count": null,
   "id": "19a3fd74-023e-415a-b027-32521f9f822c",
   "metadata": {},
   "outputs": [],
   "source": []
  }
 ],
 "metadata": {
  "kernelspec": {
   "display_name": "Python 3 (ipykernel)",
   "language": "python",
   "name": "python3"
  },
  "language_info": {
   "codemirror_mode": {
    "name": "ipython",
    "version": 3
   },
   "file_extension": ".py",
   "mimetype": "text/x-python",
   "name": "python",
   "nbconvert_exporter": "python",
   "pygments_lexer": "ipython3",
   "version": "3.10.4"
  }
 },
 "nbformat": 4,
 "nbformat_minor": 5
}
