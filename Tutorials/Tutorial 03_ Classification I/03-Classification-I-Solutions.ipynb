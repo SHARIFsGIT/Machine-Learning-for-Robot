{
 "cells": [
  {
   "cell_type": "markdown",
   "metadata": {},
   "source": [
    "# Tutorial 03: Classification I\n",
    "\n",
    "In this notebook, we perform classification of Robot movements in an environment with walls using real dataset. \n",
    "\n",
    "Install the necessary libraries in the PC or in the Virtual Environment using provided Requirements.txt."
   ]
  },
  {
   "cell_type": "markdown",
   "metadata": {},
   "source": [
    "## Import Important Libraries"
   ]
  },
  {
   "cell_type": "code",
   "execution_count": 27,
   "metadata": {},
   "outputs": [],
   "source": [
    "import numpy as np\n",
    "import matplotlib.pyplot as plt\n",
    "import seaborn as sns\n",
    "import pandas as pd\n",
    "from functions.fisher_score import fisher_index_calc\n",
    "from sklearn.metrics import accuracy_score, make_scorer\n",
    "from functions.plot_confusion_matrix import plot_confusion_matrix\n",
    "import math, random"
   ]
  },
  {
   "cell_type": "markdown",
   "metadata": {},
   "source": [
    "## Task 1: Data Preprocessing\n",
    "\n",
    "Load the given data in the 'Data' folder and analyse the data and solve the following questions.\n",
    "\n",
    "1. What is the sample size ?\n",
    "2. Is data labeled? If yes print the labeles of the data.\n",
    "3. Check the features and type of data. \n",
    "4. Plot the data distribution of Features towards labels."
   ]
  },
  {
   "cell_type": "code",
   "execution_count": 28,
   "metadata": {},
   "outputs": [],
   "source": [
    "# Load the data from csv to Pandas Dataframe\n",
    "\n",
    "data = np.loadtxt(\"Data/sensor_readings_24.csv\", delimiter=',', dtype=str)\n",
    "\n",
    "df = pd.DataFrame(data[:,:24], dtype=np.float64)\n",
    "df = pd.concat([df, pd.DataFrame(data[:, 24], columns=['Label'])], axis=1)"
   ]
  },
  {
   "cell_type": "code",
   "execution_count": 29,
   "metadata": {},
   "outputs": [
    {
     "name": "stdout",
     "output_type": "stream",
     "text": [
      "Size of the Data: (5456, 25)\n",
      "Sample Data:\n",
      "        0      1      2      3    4      5      6      7      8      9  ...  \\\n",
      "0  0.438  0.498  3.625  3.645  5.0  2.918  5.000  2.351  2.332  2.643  ...   \n",
      "1  0.438  0.498  3.625  3.648  5.0  2.918  5.000  2.637  2.332  2.649  ...   \n",
      "2  0.438  0.498  3.625  3.629  5.0  2.918  5.000  2.637  2.334  2.643  ...   \n",
      "3  0.437  0.501  3.625  3.626  5.0  2.918  5.000  2.353  2.334  2.642  ...   \n",
      "4  0.438  0.498  3.626  3.629  5.0  2.918  5.000  2.640  2.334  2.639  ...   \n",
      "5  0.439  0.498  3.626  3.629  5.0  2.918  5.000  2.633  2.334  2.645  ...   \n",
      "6  0.440  5.000  3.627  3.628  5.0  2.919  3.028  2.346  2.330  2.638  ...   \n",
      "7  0.444  5.021  3.631  3.634  5.0  2.919  5.000  2.626  2.327  2.638  ...   \n",
      "8  0.451  5.025  3.635  3.639  5.0  2.920  3.027  2.620  2.323  2.632  ...   \n",
      "9  0.458  5.022  3.640  3.644  5.0  2.922  5.000  2.346  2.321  2.628  ...   \n",
      "\n",
      "      15     16     17     18     19     20     21     22     23  \\\n",
      "0  0.593  0.502  0.493  0.504  0.445  0.431  0.444  0.440  0.429   \n",
      "1  0.592  0.502  0.493  0.504  0.449  0.431  0.444  0.443  0.429   \n",
      "2  0.593  0.502  0.493  0.504  0.449  0.431  0.444  0.446  0.429   \n",
      "3  0.593  0.502  0.493  0.504  0.449  0.431  0.444  0.444  0.429   \n",
      "4  0.592  0.502  0.493  0.504  0.449  0.431  0.444  0.441  0.429   \n",
      "5  0.589  0.502  0.493  0.504  0.446  0.431  0.444  0.444  0.430   \n",
      "6  0.588  0.501  0.492  0.504  0.451  0.433  0.446  0.444  0.432   \n",
      "7  0.595  0.500  0.491  0.503  0.453  0.436  0.448  0.444  0.436   \n",
      "8  0.595  0.499  0.491  0.502  0.457  0.440  0.453  0.454  0.442   \n",
      "9  0.590  0.496  0.490  0.498  0.462  0.444  0.458  0.461  0.449   \n",
      "\n",
      "               Label  \n",
      "0  Slight-Right-Turn  \n",
      "1  Slight-Right-Turn  \n",
      "2  Slight-Right-Turn  \n",
      "3  Slight-Right-Turn  \n",
      "4  Slight-Right-Turn  \n",
      "5  Slight-Right-Turn  \n",
      "6  Slight-Right-Turn  \n",
      "7  Slight-Right-Turn  \n",
      "8   Sharp-Right-Turn  \n",
      "9   Sharp-Right-Turn  \n",
      "\n",
      "[10 rows x 25 columns]\n"
     ]
    },
    {
     "data": {
      "text/plain": [
       "0       Slight-Right-Turn\n",
       "1       Slight-Right-Turn\n",
       "2       Slight-Right-Turn\n",
       "3       Slight-Right-Turn\n",
       "4       Slight-Right-Turn\n",
       "              ...        \n",
       "5451         Move-Forward\n",
       "5452     Sharp-Right-Turn\n",
       "5453     Sharp-Right-Turn\n",
       "5454         Move-Forward\n",
       "5455     Sharp-Right-Turn\n",
       "Name: Label, Length: 5456, dtype: object"
      ]
     },
     "execution_count": 29,
     "metadata": {},
     "output_type": "execute_result"
    }
   ],
   "source": [
    "# verify the data by printing the sample data and its shape\n",
    "print(\"Size of the Data:\", df.shape)\n",
    "print (\"Sample Data:\\n\", df.head(n=10))\n",
    "df.iloc[:, 0:24]\n",
    "df['Label']"
   ]
  },
  {
   "cell_type": "markdown",
   "metadata": {},
   "source": [
    "### Verify the data distribution and check for the following.\n",
    "\n",
    "1. Is normalization required ?\n",
    "2. What do you observe from the data about data distribution and asses if data is balanced?\n",
    "3. What do you think that is needed further by analysing the data ? "
   ]
  },
  {
   "cell_type": "code",
   "execution_count": 30,
   "metadata": {},
   "outputs": [
    {
     "data": {
      "text/html": [
       "<div>\n",
       "<style scoped>\n",
       "    .dataframe tbody tr th:only-of-type {\n",
       "        vertical-align: middle;\n",
       "    }\n",
       "\n",
       "    .dataframe tbody tr th {\n",
       "        vertical-align: top;\n",
       "    }\n",
       "\n",
       "    .dataframe thead th {\n",
       "        text-align: right;\n",
       "    }\n",
       "</style>\n",
       "<table border=\"1\" class=\"dataframe\">\n",
       "  <thead>\n",
       "    <tr style=\"text-align: right;\">\n",
       "      <th></th>\n",
       "      <th>0</th>\n",
       "      <th>1</th>\n",
       "      <th>2</th>\n",
       "      <th>3</th>\n",
       "      <th>4</th>\n",
       "      <th>5</th>\n",
       "      <th>6</th>\n",
       "      <th>7</th>\n",
       "      <th>8</th>\n",
       "      <th>9</th>\n",
       "      <th>...</th>\n",
       "      <th>14</th>\n",
       "      <th>15</th>\n",
       "      <th>16</th>\n",
       "      <th>17</th>\n",
       "      <th>18</th>\n",
       "      <th>19</th>\n",
       "      <th>20</th>\n",
       "      <th>21</th>\n",
       "      <th>22</th>\n",
       "      <th>23</th>\n",
       "    </tr>\n",
       "  </thead>\n",
       "  <tbody>\n",
       "    <tr>\n",
       "      <th>count</th>\n",
       "      <td>5456.000000</td>\n",
       "      <td>5456.000000</td>\n",
       "      <td>5456.000000</td>\n",
       "      <td>5456.000000</td>\n",
       "      <td>5456.000000</td>\n",
       "      <td>5456.000000</td>\n",
       "      <td>5456.000000</td>\n",
       "      <td>5456.000000</td>\n",
       "      <td>5456.000000</td>\n",
       "      <td>5456.000000</td>\n",
       "      <td>...</td>\n",
       "      <td>5456.000000</td>\n",
       "      <td>5456.000000</td>\n",
       "      <td>5456.000000</td>\n",
       "      <td>5456.000000</td>\n",
       "      <td>5456.00000</td>\n",
       "      <td>5456.000000</td>\n",
       "      <td>5456.000000</td>\n",
       "      <td>5456.000000</td>\n",
       "      <td>5456.000000</td>\n",
       "      <td>5456.000000</td>\n",
       "    </tr>\n",
       "    <tr>\n",
       "      <th>mean</th>\n",
       "      <td>1.471617</td>\n",
       "      <td>2.327043</td>\n",
       "      <td>2.489347</td>\n",
       "      <td>2.796501</td>\n",
       "      <td>2.958552</td>\n",
       "      <td>2.893073</td>\n",
       "      <td>3.351113</td>\n",
       "      <td>2.540397</td>\n",
       "      <td>3.125621</td>\n",
       "      <td>2.832386</td>\n",
       "      <td>...</td>\n",
       "      <td>2.205772</td>\n",
       "      <td>1.202111</td>\n",
       "      <td>0.989831</td>\n",
       "      <td>0.910273</td>\n",
       "      <td>1.05811</td>\n",
       "      <td>1.076320</td>\n",
       "      <td>1.015923</td>\n",
       "      <td>1.778034</td>\n",
       "      <td>1.555045</td>\n",
       "      <td>1.578508</td>\n",
       "    </tr>\n",
       "    <tr>\n",
       "      <th>std</th>\n",
       "      <td>0.802801</td>\n",
       "      <td>1.410146</td>\n",
       "      <td>1.247435</td>\n",
       "      <td>1.309368</td>\n",
       "      <td>1.339225</td>\n",
       "      <td>1.282575</td>\n",
       "      <td>1.413692</td>\n",
       "      <td>1.111554</td>\n",
       "      <td>1.356965</td>\n",
       "      <td>1.307843</td>\n",
       "      <td>...</td>\n",
       "      <td>1.715435</td>\n",
       "      <td>1.098568</td>\n",
       "      <td>0.942075</td>\n",
       "      <td>0.889527</td>\n",
       "      <td>1.14463</td>\n",
       "      <td>1.141498</td>\n",
       "      <td>0.887439</td>\n",
       "      <td>1.571686</td>\n",
       "      <td>1.291447</td>\n",
       "      <td>1.150480</td>\n",
       "    </tr>\n",
       "    <tr>\n",
       "      <th>min</th>\n",
       "      <td>0.400000</td>\n",
       "      <td>0.437000</td>\n",
       "      <td>0.470000</td>\n",
       "      <td>0.833000</td>\n",
       "      <td>1.120000</td>\n",
       "      <td>1.114000</td>\n",
       "      <td>1.122000</td>\n",
       "      <td>0.859000</td>\n",
       "      <td>0.836000</td>\n",
       "      <td>0.810000</td>\n",
       "      <td>...</td>\n",
       "      <td>0.495000</td>\n",
       "      <td>0.424000</td>\n",
       "      <td>0.373000</td>\n",
       "      <td>0.354000</td>\n",
       "      <td>0.34000</td>\n",
       "      <td>0.355000</td>\n",
       "      <td>0.380000</td>\n",
       "      <td>0.370000</td>\n",
       "      <td>0.367000</td>\n",
       "      <td>0.377000</td>\n",
       "    </tr>\n",
       "    <tr>\n",
       "      <th>25%</th>\n",
       "      <td>0.921000</td>\n",
       "      <td>1.362000</td>\n",
       "      <td>1.538750</td>\n",
       "      <td>1.731000</td>\n",
       "      <td>1.774000</td>\n",
       "      <td>1.785750</td>\n",
       "      <td>1.930750</td>\n",
       "      <td>1.618000</td>\n",
       "      <td>1.799750</td>\n",
       "      <td>1.636000</td>\n",
       "      <td>...</td>\n",
       "      <td>0.860000</td>\n",
       "      <td>0.690000</td>\n",
       "      <td>0.581000</td>\n",
       "      <td>0.529750</td>\n",
       "      <td>0.52300</td>\n",
       "      <td>0.541750</td>\n",
       "      <td>0.567000</td>\n",
       "      <td>0.743000</td>\n",
       "      <td>0.792000</td>\n",
       "      <td>0.884000</td>\n",
       "    </tr>\n",
       "    <tr>\n",
       "      <th>50%</th>\n",
       "      <td>1.335000</td>\n",
       "      <td>1.904500</td>\n",
       "      <td>2.064000</td>\n",
       "      <td>2.458000</td>\n",
       "      <td>2.667000</td>\n",
       "      <td>2.682500</td>\n",
       "      <td>3.225500</td>\n",
       "      <td>2.172000</td>\n",
       "      <td>2.802000</td>\n",
       "      <td>2.679000</td>\n",
       "      <td>...</td>\n",
       "      <td>1.328500</td>\n",
       "      <td>0.803000</td>\n",
       "      <td>0.738000</td>\n",
       "      <td>0.685000</td>\n",
       "      <td>0.69100</td>\n",
       "      <td>0.693000</td>\n",
       "      <td>0.764000</td>\n",
       "      <td>1.030500</td>\n",
       "      <td>1.071000</td>\n",
       "      <td>1.289000</td>\n",
       "    </tr>\n",
       "    <tr>\n",
       "      <th>75%</th>\n",
       "      <td>1.814000</td>\n",
       "      <td>2.681500</td>\n",
       "      <td>2.739250</td>\n",
       "      <td>4.093500</td>\n",
       "      <td>4.314500</td>\n",
       "      <td>3.835250</td>\n",
       "      <td>5.000000</td>\n",
       "      <td>3.193000</td>\n",
       "      <td>5.000000</td>\n",
       "      <td>3.526250</td>\n",
       "      <td>...</td>\n",
       "      <td>4.436250</td>\n",
       "      <td>1.159000</td>\n",
       "      <td>0.913000</td>\n",
       "      <td>0.837000</td>\n",
       "      <td>0.85700</td>\n",
       "      <td>0.863000</td>\n",
       "      <td>1.002250</td>\n",
       "      <td>2.068250</td>\n",
       "      <td>1.559500</td>\n",
       "      <td>1.657250</td>\n",
       "    </tr>\n",
       "    <tr>\n",
       "      <th>max</th>\n",
       "      <td>5.000000</td>\n",
       "      <td>5.025000</td>\n",
       "      <td>5.029000</td>\n",
       "      <td>5.017000</td>\n",
       "      <td>5.000000</td>\n",
       "      <td>5.005000</td>\n",
       "      <td>5.008000</td>\n",
       "      <td>5.087000</td>\n",
       "      <td>5.000000</td>\n",
       "      <td>5.022000</td>\n",
       "      <td>...</td>\n",
       "      <td>5.000000</td>\n",
       "      <td>5.000000</td>\n",
       "      <td>5.000000</td>\n",
       "      <td>5.000000</td>\n",
       "      <td>5.00000</td>\n",
       "      <td>5.000000</td>\n",
       "      <td>5.000000</td>\n",
       "      <td>5.000000</td>\n",
       "      <td>5.000000</td>\n",
       "      <td>5.000000</td>\n",
       "    </tr>\n",
       "  </tbody>\n",
       "</table>\n",
       "<p>8 rows × 24 columns</p>\n",
       "</div>"
      ],
      "text/plain": [
       "                0            1            2            3            4   \\\n",
       "count  5456.000000  5456.000000  5456.000000  5456.000000  5456.000000   \n",
       "mean      1.471617     2.327043     2.489347     2.796501     2.958552   \n",
       "std       0.802801     1.410146     1.247435     1.309368     1.339225   \n",
       "min       0.400000     0.437000     0.470000     0.833000     1.120000   \n",
       "25%       0.921000     1.362000     1.538750     1.731000     1.774000   \n",
       "50%       1.335000     1.904500     2.064000     2.458000     2.667000   \n",
       "75%       1.814000     2.681500     2.739250     4.093500     4.314500   \n",
       "max       5.000000     5.025000     5.029000     5.017000     5.000000   \n",
       "\n",
       "                5            6            7            8            9   ...  \\\n",
       "count  5456.000000  5456.000000  5456.000000  5456.000000  5456.000000  ...   \n",
       "mean      2.893073     3.351113     2.540397     3.125621     2.832386  ...   \n",
       "std       1.282575     1.413692     1.111554     1.356965     1.307843  ...   \n",
       "min       1.114000     1.122000     0.859000     0.836000     0.810000  ...   \n",
       "25%       1.785750     1.930750     1.618000     1.799750     1.636000  ...   \n",
       "50%       2.682500     3.225500     2.172000     2.802000     2.679000  ...   \n",
       "75%       3.835250     5.000000     3.193000     5.000000     3.526250  ...   \n",
       "max       5.005000     5.008000     5.087000     5.000000     5.022000  ...   \n",
       "\n",
       "                14           15           16           17          18  \\\n",
       "count  5456.000000  5456.000000  5456.000000  5456.000000  5456.00000   \n",
       "mean      2.205772     1.202111     0.989831     0.910273     1.05811   \n",
       "std       1.715435     1.098568     0.942075     0.889527     1.14463   \n",
       "min       0.495000     0.424000     0.373000     0.354000     0.34000   \n",
       "25%       0.860000     0.690000     0.581000     0.529750     0.52300   \n",
       "50%       1.328500     0.803000     0.738000     0.685000     0.69100   \n",
       "75%       4.436250     1.159000     0.913000     0.837000     0.85700   \n",
       "max       5.000000     5.000000     5.000000     5.000000     5.00000   \n",
       "\n",
       "                19           20           21           22           23  \n",
       "count  5456.000000  5456.000000  5456.000000  5456.000000  5456.000000  \n",
       "mean      1.076320     1.015923     1.778034     1.555045     1.578508  \n",
       "std       1.141498     0.887439     1.571686     1.291447     1.150480  \n",
       "min       0.355000     0.380000     0.370000     0.367000     0.377000  \n",
       "25%       0.541750     0.567000     0.743000     0.792000     0.884000  \n",
       "50%       0.693000     0.764000     1.030500     1.071000     1.289000  \n",
       "75%       0.863000     1.002250     2.068250     1.559500     1.657250  \n",
       "max       5.000000     5.000000     5.000000     5.000000     5.000000  \n",
       "\n",
       "[8 rows x 24 columns]"
      ]
     },
     "execution_count": 30,
     "metadata": {},
     "output_type": "execute_result"
    }
   ],
   "source": [
    "# Tabulate the sample data set using describe function and analyse. \n",
    "df.describe()"
   ]
  },
  {
   "cell_type": "code",
   "execution_count": 31,
   "metadata": {},
   "outputs": [
    {
     "data": {
      "text/plain": [
       "Label\n",
       "Move-Forward         2205\n",
       "Sharp-Right-Turn     2097\n",
       "Slight-Left-Turn      328\n",
       "Slight-Right-Turn     826\n",
       "Name: 0, dtype: int64"
      ]
     },
     "execution_count": 31,
     "metadata": {},
     "output_type": "execute_result"
    }
   ],
   "source": [
    "df.groupby(['Label']).count()[0]"
   ]
  },
  {
   "cell_type": "code",
   "execution_count": 32,
   "metadata": {},
   "outputs": [
    {
     "data": {
      "image/png": "[encoded data removed]",
      "text/plain": [
       "<Figure size 1080x360 with 1 Axes>"
      ]
     },
     "metadata": {
      "needs_background": "light"
     },
     "output_type": "display_data"
    }
   ],
   "source": [
    "# Plot the data distribution using SNS countplot\n",
    "\n",
    "fig = plt.figure(figsize=(15,5))\n",
    "axis = sns.countplot(x='Label',data=df,alpha=0.5)"
   ]
  },
  {
   "cell_type": "markdown",
   "metadata": {},
   "source": [
    "# Task 2: Feature Selection\n",
    "\n",
    "## Little bit of Theory about  Feature Selection\n",
    "Different types of Feature Selection methods:  \n",
    "<img src=\"figures/feature_selection_methods.png\">  \n",
    "Source: Medium.com\n",
    "\n",
    "#### Correlation Statistics  \n",
    "The scikit-learn library provides an implementation of most of the useful statistical measures.  \n",
    "For example:  \n",
    "1. Pearson’s Correlation Coefficient: f_regression()  \n",
    "2. ANOVA: f_classif()  \n",
    "3. Chi-Squared: chi2()  \n",
    "4. Mutual Information: mutual_info_classif() and mutual_info_regression()  \n",
    "Also, the SciPy library provides an implementation of many more statistics, such as Kendall’s tau (kendalltau) and Spearman’s rank correlation (spearmanr).\n",
    "#### Selection Method\n",
    "The scikit-learn library also provides many different filtering methods once statistics have been calculated for each input variable with the target.\n",
    "Two of the more popular methods include:\n",
    "1. Select the top k variables: SelectKBest\n",
    "2. Select the top percentile variables: SelectPercentile"
   ]
  },
  {
   "cell_type": "markdown",
   "metadata": {},
   "source": [
    "### Answer the following: \n",
    "1. What type of feature selection methods that are applicable for the given dataset? \n",
    "2. What do you think about the data size and how it influence the learning?\n",
    "3. Do we need large data to train the models for better results? \n",
    "4. What do you mean by large data ? Large no. of samples Vs More features ?"
   ]
  },
  {
   "cell_type": "code",
   "execution_count": 33,
   "metadata": {},
   "outputs": [
    {
     "name": "stdout",
     "output_type": "stream",
     "text": [
      "(5456, 3)\n"
     ]
    }
   ],
   "source": [
    "# Simplr way of feature selection.\n",
    "# Apply the suitable feature selection method from above description and extract the data.\n",
    "\n",
    "from sklearn.feature_selection import SelectKBest\n",
    "from sklearn.feature_selection import f_classif\n",
    "# generate dataset\n",
    "\n",
    "# define feature selection\n",
    "fs = SelectKBest(score_func=f_classif, k=3)\n",
    "# apply feature selection\n",
    "df_selected_1 = fs.fit_transform(df.iloc[:, 0:24], df['Label'])\n",
    "print(df_selected_1.shape)"
   ]
  },
  {
   "cell_type": "code",
   "execution_count": 34,
   "metadata": {},
   "outputs": [
    {
     "data": {
      "text/plain": [
       "<Figure size 1656x720 with 0 Axes>"
      ]
     },
     "metadata": {},
     "output_type": "display_data"
    },
    {
     "data": {
      "image/png": "[encoded data removed]",
      "text/plain": [
       "<Figure size 1440x720 with 1 Axes>"
      ]
     },
     "metadata": {
      "needs_background": "light"
     },
     "output_type": "display_data"
    }
   ],
   "source": [
    "# Similarity Based Feature Selection using Fisher Score \n",
    "\n",
    "training_set = df.iloc[:, :(df.shape[1]-1)].values\n",
    "label_set = df.iloc[:, (df.shape[1]-1):].values\n",
    "\n",
    "# Get the fisher scores\n",
    "fisher_scores = fisher_index_calc(training_set, label_set)\n",
    "\n",
    "# Plot the fisher scores\n",
    "fig= plt.figure(figsize=(23, 10))\n",
    "df_fisher = pd.DataFrame({'Fisher Scores of the Features': fisher_scores})\n",
    "ax = df_fisher.plot.bar(figsize=(20,10))\n",
    "plt.show()"
   ]
  },
  {
   "cell_type": "markdown",
   "metadata": {},
   "source": [
    "### What do you infer from the above plot ?"
   ]
  },
  {
   "cell_type": "code",
   "execution_count": 35,
   "metadata": {},
   "outputs": [
    {
     "data": {
      "text/plain": [
       "(5456, 3)"
      ]
     },
     "execution_count": 35,
     "metadata": {},
     "output_type": "execute_result"
    }
   ],
   "source": [
    "# Perform feature selection by analysing the above plot\n",
    "# Remove the features that are not significant according to your analysis.\n",
    "\n",
    "to_remove = []\n",
    "for i in range((len(fisher_scores))):\n",
    "    if fisher_scores[i] < 600:\n",
    "        # we mark for removal\n",
    "        to_remove.append(i)\n",
    "\n",
    "df_selected_2 = np.delete(training_set, to_remove, 1)\n",
    "df_selected_2.shape"
   ]
  },
  {
   "cell_type": "markdown",
   "metadata": {},
   "source": [
    "# Task 3: Model Learning for Classification"
   ]
  },
  {
   "cell_type": "markdown",
   "metadata": {},
   "source": [
    "Data Preperation for Learning"
   ]
  },
  {
   "cell_type": "code",
   "execution_count": 36,
   "metadata": {},
   "outputs": [],
   "source": [
    "# Test and Train data splitting\n",
    "from sklearn.preprocessing import LabelEncoder\n",
    "from sklearn.model_selection import train_test_split\n",
    "\n",
    "\n",
    "labelEn = LabelEncoder()\n",
    "encoded_labels = labelEn.fit_transform(df['Label'])\n",
    "class_names = labelEn.classes_\n",
    "\n",
    "X_train, X_test, y_train, y_test = train_test_split(df_selected_2, encoded_labels, test_size=0.3, shuffle=False)\n"
   ]
  },
  {
   "cell_type": "markdown",
   "metadata": {},
   "source": [
    "## KNN Classifier"
   ]
  },
  {
   "cell_type": "markdown",
   "metadata": {},
   "source": [
    "### Implementat your own KNN Classifier"
   ]
  },
  {
   "cell_type": "code",
   "execution_count": 37,
   "metadata": {},
   "outputs": [],
   "source": [
    "# Implement KNN classifier with euclideab Distance\n",
    "def mode(list):\n",
    "    return max(set(list), key=list.count)\n",
    "def euclidean(point, data):\n",
    "    return np.sqrt(np.sum((point - data)**2, axis=1))\n",
    "\n",
    "class KNeighborsClassifier:\n",
    "    def __init__(self, k=5, dist_metric=euclidean):\n",
    "        self.k = k\n",
    "        self.dist_metric = dist_metric\n",
    "    def fit(self, X_train, y_train):\n",
    "        self.X_train = X_train\n",
    "        self.y_train = y_train\n",
    "    def predict(self, X_test):\n",
    "        neighbors = []\n",
    "        for x in X_test:\n",
    "            distances = self.dist_metric(x, self.X_train)\n",
    "            y_sorted = [y for _, y in sorted(zip(distances, self.y_train))]\n",
    "            neighbors.append(y_sorted[:self.k])\n",
    "        return list(map(mode, neighbors))"
   ]
  },
  {
   "cell_type": "code",
   "execution_count": 38,
   "metadata": {},
   "outputs": [],
   "source": [
    "model = KNeighborsClassifier(k=3)\n",
    "model.fit(X_train, y_train)\n",
    "\n",
    "y_pred = model.predict(X_test)"
   ]
  },
  {
   "cell_type": "code",
   "execution_count": 39,
   "metadata": {},
   "outputs": [
    {
     "data": {
      "text/plain": [
       "<AxesSubplot:title={'center':'Confusion matrix For KNN Classification'}, xlabel='Predicted label', ylabel='True label'>"
      ]
     },
     "execution_count": 39,
     "metadata": {},
     "output_type": "execute_result"
    },
    {
     "data": {
      "image/png": "[encoded data removed]",
      "text/plain": [
       "<Figure size 720x720 with 2 Axes>"
      ]
     },
     "metadata": {
      "needs_background": "light"
     },
     "output_type": "display_data"
    }
   ],
   "source": [
    "# Plot The confusion matrix\n",
    "plot_confusion_matrix(y_test, y_pred, classes=class_names, title='Confusion matrix For KNN Classification')"
   ]
  },
  {
   "cell_type": "code",
   "execution_count": 40,
   "metadata": {},
   "outputs": [
    {
     "name": "stdout",
     "output_type": "stream",
     "text": [
      "Performance - 77.5198533903482%\n"
     ]
    }
   ],
   "source": [
    "print (\"Performance - \" + str(100*accuracy_score(y_pred, y_test)) + \"%\")"
   ]
  },
  {
   "cell_type": "markdown",
   "metadata": {},
   "source": [
    "## Answer the following\n",
    "1. Can we choose any value for K ?\n",
    "2. What will happen if we keep on increasing K ?"
   ]
  },
  {
   "cell_type": "code",
   "execution_count": 41,
   "metadata": {},
   "outputs": [
    {
     "data": {
      "image/png": "[encoded data removed]",
      "text/plain": [
       "<Figure size 432x288 with 1 Axes>"
      ]
     },
     "metadata": {
      "needs_background": "light"
     },
     "output_type": "display_data"
    }
   ],
   "source": [
    "# Comparision of accuracy with different K value.\n",
    "ks = range(1, 10)\n",
    "accuracies = [] \n",
    "for k in ks:\n",
    "    model = KNeighborsClassifier(k=k)\n",
    "    model.fit(X_train, y_train)\n",
    "    y_pred = model.predict(X_test)\n",
    "    accuracy = accuracy_score(y_pred, y_test)\n",
    "    accuracies.append(accuracy)\n",
    "\n",
    "\n",
    "# Accuracy vs. K\n",
    "fig, ax = plt.subplots()\n",
    "ax.plot(ks, accuracies)\n",
    "ax.set(xlabel=\"k\",\n",
    "       ylabel=\"Accuracy\",\n",
    "       title=\"Performance of knn\")\n",
    "plt.show()"
   ]
  },
  {
   "cell_type": "markdown",
   "metadata": {},
   "source": [
    "### Bonus\n",
    "\n",
    "Implement for other distances and compare the results"
   ]
  },
  {
   "cell_type": "markdown",
   "metadata": {},
   "source": [
    "### Implementation Using standard library\n",
    "\n",
    "Implement using Sklearn standard library and compare the results"
   ]
  },
  {
   "cell_type": "code",
   "execution_count": 42,
   "metadata": {},
   "outputs": [],
   "source": [
    "# Import Libraries and define Model\n",
    "from sklearn.neighbors import KNeighborsClassifier\n",
    "model = KNeighborsClassifier(n_neighbors=3)\n",
    "model.fit(X_train, y_train)\n",
    "\n",
    "# Prediction\n",
    "y_pred = model.predict(X_test)"
   ]
  },
  {
   "cell_type": "code",
   "execution_count": 43,
   "metadata": {},
   "outputs": [
    {
     "data": {
      "text/plain": [
       "<AxesSubplot:title={'center':'Confusion matrix For KNN Classification'}, xlabel='Predicted label', ylabel='True label'>"
      ]
     },
     "execution_count": 43,
     "metadata": {},
     "output_type": "execute_result"
    },
    {
     "data": {
      "image/png": "[encoded data removed]",
      "text/plain": [
       "<Figure size 720x720 with 2 Axes>"
      ]
     },
     "metadata": {
      "needs_background": "light"
     },
     "output_type": "display_data"
    }
   ],
   "source": [
    "# Plot The confusion matrix\n",
    "plot_confusion_matrix(y_test, y_pred, classes=class_names, title='Confusion matrix For KNN Classification')"
   ]
  },
  {
   "cell_type": "code",
   "execution_count": 44,
   "metadata": {},
   "outputs": [
    {
     "name": "stdout",
     "output_type": "stream",
     "text": [
      "Performance - 77.5198533903482%\n"
     ]
    }
   ],
   "source": [
    "print (\"Performance - \" + str(100*accuracy_score(y_pred, y_test)) + \"%\")"
   ]
  },
  {
   "cell_type": "code",
   "execution_count": 45,
   "metadata": {},
   "outputs": [
    {
     "data": {
      "image/png": "[encoded data removed]",
      "text/plain": [
       "<Figure size 432x288 with 1 Axes>"
      ]
     },
     "metadata": {
      "needs_background": "light"
     },
     "output_type": "display_data"
    }
   ],
   "source": [
    "# Comparision of accuracy with different K value.\n",
    "ks = range(1, 10)\n",
    "accuracies = [] \n",
    "for k in ks:\n",
    "    model = KNeighborsClassifier(n_neighbors=k)\n",
    "    model.fit(X_train, y_train)\n",
    "    y_pred = model.predict(X_test)\n",
    "    accuracy = accuracy_score(y_pred, y_test)\n",
    "    accuracies.append(accuracy)\n",
    "\n",
    "\n",
    "# Accuracy vs. K\n",
    "fig, ax = plt.subplots()\n",
    "ax.plot(ks, accuracies)\n",
    "ax.set(xlabel=\"k\",\n",
    "       ylabel=\"Accuracy\",\n",
    "       title=\"Performance of knn\")\n",
    "plt.show()"
   ]
  },
  {
   "cell_type": "markdown",
   "metadata": {},
   "source": [
    "### Bonus"
   ]
  },
  {
   "cell_type": "markdown",
   "metadata": {},
   "source": [
    "## Decision Tree Classifier"
   ]
  },
  {
   "cell_type": "markdown",
   "metadata": {},
   "source": [
    "### Answer the Following\n",
    "What is Deceision Tree and how do you implement it?   \n",
    "What is entropy in Decision Tree ?  \n",
    "What is information gain in Decision Tree ?  "
   ]
  },
  {
   "cell_type": "markdown",
   "metadata": {},
   "source": [
    "### Implement your own Decision Tree Classifier"
   ]
  },
  {
   "cell_type": "code",
   "execution_count": 46,
   "metadata": {},
   "outputs": [],
   "source": [
    "import numpy as np\n",
    "from collections import Counter\n",
    "\n",
    "class Node:\n",
    "    def __init__(self, feature=None, threshold=None, left=None, right=None,*,value=None):\n",
    "        self.feature = feature\n",
    "        self.threshold = threshold\n",
    "        self.left = left\n",
    "        self.right = right\n",
    "        self.value = value\n",
    "        \n",
    "    def is_leaf_node(self):\n",
    "        return self.value is not None\n",
    "\n",
    "\n",
    "class DecisionTree:\n",
    "    def __init__(self, min_samples_split=2, max_depth=100, n_features=None):\n",
    "        self.min_samples_split=min_samples_split\n",
    "        self.max_depth=max_depth\n",
    "        self.n_features=n_features\n",
    "        self.root=None\n",
    "\n",
    "    def fit(self, X, y):\n",
    "        self.n_features = X.shape[1] if not self.n_features else min(X.shape[1],self.n_features)\n",
    "        self.root = self._grow_tree(X, y)\n",
    "\n",
    "    def _grow_tree(self, X, y, depth=0):\n",
    "        n_samples, n_feats = X.shape\n",
    "        n_labels = len(np.unique(y))\n",
    "\n",
    "        # check the stopping criteria\n",
    "        if (depth>=self.max_depth or n_labels==1 or n_samples<self.min_samples_split):\n",
    "            leaf_value = self._most_common_label(y)\n",
    "            return Node(value=leaf_value)\n",
    "\n",
    "        feat_idxs = np.random.choice(n_feats, self.n_features, replace=False)\n",
    "\n",
    "        # find the best split\n",
    "        best_feature, best_thresh = self._best_split(X, y, feat_idxs)\n",
    "\n",
    "        # create child nodes\n",
    "        left_idxs, right_idxs = self._split(X[:, best_feature], best_thresh)\n",
    "        left = self._grow_tree(X[left_idxs, :], y[left_idxs], depth+1)\n",
    "        right = self._grow_tree(X[right_idxs, :], y[right_idxs], depth+1)\n",
    "        return Node(best_feature, best_thresh, left, right)\n",
    "\n",
    "\n",
    "    def _best_split(self, X, y, feat_idxs):\n",
    "        best_gain = -1\n",
    "        split_idx, split_threshold = None, None\n",
    "\n",
    "        for feat_idx in feat_idxs:\n",
    "            X_column = X[:, feat_idx]\n",
    "            thresholds = np.unique(X_column)\n",
    "\n",
    "            for thr in thresholds:\n",
    "                # calculate the information gain\n",
    "                gain = self._information_gain(y, X_column, thr)\n",
    "\n",
    "                if gain > best_gain:\n",
    "                    best_gain = gain\n",
    "                    split_idx = feat_idx\n",
    "                    split_threshold = thr\n",
    "\n",
    "        return split_idx, split_threshold\n",
    "\n",
    "\n",
    "    def _information_gain(self, y, X_column, threshold):\n",
    "        # parent entropy\n",
    "        parent_entropy = self._entropy(y)\n",
    "\n",
    "        # create children\n",
    "        left_idxs, right_idxs = self._split(X_column, threshold)\n",
    "\n",
    "        if len(left_idxs) == 0 or len(right_idxs) == 0:\n",
    "            return 0\n",
    "        \n",
    "        # calculate the weighted avg. entropy of children\n",
    "        n = len(y)\n",
    "        n_l, n_r = len(left_idxs), len(right_idxs)\n",
    "        e_l, e_r = self._entropy(y[left_idxs]), self._entropy(y[right_idxs])\n",
    "        child_entropy = (n_l/n) * e_l + (n_r/n) * e_r\n",
    "\n",
    "        # calculate the IG\n",
    "        information_gain = parent_entropy - child_entropy\n",
    "        return information_gain\n",
    "\n",
    "    def _split(self, X_column, split_thresh):\n",
    "        left_idxs = np.argwhere(X_column <= split_thresh).flatten()\n",
    "        right_idxs = np.argwhere(X_column > split_thresh).flatten()\n",
    "        return left_idxs, right_idxs\n",
    "\n",
    "    def _entropy(self, y):\n",
    "        hist = np.bincount(y)\n",
    "        ps = hist / len(y)\n",
    "        return -np.sum([p * np.log(p) for p in ps if p>0])\n",
    "\n",
    "\n",
    "    def _most_common_label(self, y):\n",
    "        counter = Counter(y)\n",
    "        value = counter.most_common(1)[0][0]\n",
    "        return value\n",
    "\n",
    "    def predict(self, X):\n",
    "        return np.array([self._traverse_tree(x, self.root) for x in X])\n",
    "\n",
    "    def _traverse_tree(self, x, node):\n",
    "        if node.is_leaf_node():\n",
    "            return node.value\n",
    "\n",
    "        if x[node.feature] <= node.threshold:\n",
    "            return self._traverse_tree(x, node.left)\n",
    "        return self._traverse_tree(x, node.right)"
   ]
  },
  {
   "cell_type": "code",
   "execution_count": 47,
   "metadata": {},
   "outputs": [],
   "source": [
    "# Import Libraries and define Model\n",
    "model = DecisionTree(max_depth=5)\n",
    "model.fit(X_train, y_train)\n",
    "\n",
    "# Prediction\n",
    "y_pred = model.predict(X_test)"
   ]
  },
  {
   "cell_type": "code",
   "execution_count": 48,
   "metadata": {},
   "outputs": [
    {
     "data": {
      "text/plain": [
       "<AxesSubplot:title={'center':'Confusion matrix For Naive Bayes Classifier'}, xlabel='Predicted label', ylabel='True label'>"
      ]
     },
     "execution_count": 48,
     "metadata": {},
     "output_type": "execute_result"
    },
    {
     "data": {
      "image/png": "[encoded data removed]",
      "text/plain": [
       "<Figure size 720x720 with 2 Axes>"
      ]
     },
     "metadata": {
      "needs_background": "light"
     },
     "output_type": "display_data"
    }
   ],
   "source": [
    "# Plot The confusion matrix\n",
    "plot_confusion_matrix(y_test, y_pred, classes=class_names, title='Confusion matrix For Naive Bayes Classifier')"
   ]
  },
  {
   "cell_type": "code",
   "execution_count": 49,
   "metadata": {},
   "outputs": [
    {
     "name": "stdout",
     "output_type": "stream",
     "text": [
      "Performance - 74.70983506414173%\n"
     ]
    }
   ],
   "source": [
    "print (\"Performance - \" + str(100*accuracy_score(y_pred, y_test)) + \"%\")"
   ]
  },
  {
   "cell_type": "markdown",
   "metadata": {},
   "source": [
    "### Implementation Using standard library\n",
    "\n",
    "Implement using Sklearn standard library and compare the results"
   ]
  },
  {
   "cell_type": "code",
   "execution_count": 50,
   "metadata": {},
   "outputs": [],
   "source": [
    "# Import Libraries and define Model\n",
    "from sklearn.tree import DecisionTreeClassifier\n",
    "model = DecisionTreeClassifier(random_state=0)\n",
    "model.fit(X_train, y_train)\n",
    "\n",
    "# Prediction\n",
    "y_pred = model.predict(X_test)"
   ]
  },
  {
   "cell_type": "code",
   "execution_count": 51,
   "metadata": {},
   "outputs": [
    {
     "data": {
      "text/plain": [
       "<AxesSubplot:title={'center':'Confusion matrix For Naive Bayes Classifier'}, xlabel='Predicted label', ylabel='True label'>"
      ]
     },
     "execution_count": 51,
     "metadata": {},
     "output_type": "execute_result"
    },
    {
     "data": {
      "image/png": "[encoded data removed]",
      "text/plain": [
       "<Figure size 720x720 with 2 Axes>"
      ]
     },
     "metadata": {
      "needs_background": "light"
     },
     "output_type": "display_data"
    }
   ],
   "source": [
    "# Plot The confusion matrix\n",
    "plot_confusion_matrix(y_test, y_pred, classes=class_names, title='Confusion matrix For Naive Bayes Classifier')"
   ]
  },
  {
   "cell_type": "code",
   "execution_count": 52,
   "metadata": {},
   "outputs": [
    {
     "name": "stdout",
     "output_type": "stream",
     "text": [
      "Performance - 75.68723274282225%\n"
     ]
    }
   ],
   "source": [
    "print (\"Performance - \" + str(100*accuracy_score(y_pred, y_test)) + \"%\")"
   ]
  }
 ],
 "metadata": {
  "kernelspec": {
   "display_name": "Python 3 (ipykernel)",
   "language": "python",
   "name": "python3"
  },
  "language_info": {
   "codemirror_mode": {
    "name": "ipython",
    "version": 3
   },
   "file_extension": ".py",
   "mimetype": "text/x-python",
   "name": "python",
   "nbconvert_exporter": "python",
   "pygments_lexer": "ipython3",
   "version": "3.10.12"
  },
  "vscode": {
   "interpreter": {
    "hash": "916dbcbb3f70747c44a77c7bcd40155683ae19c65e1c03b4aa3499c5328201f1"
   }
  }
 },
 "nbformat": 4,
 "nbformat_minor": 2
}
