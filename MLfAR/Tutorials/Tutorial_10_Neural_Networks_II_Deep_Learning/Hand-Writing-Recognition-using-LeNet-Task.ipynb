{
 "cells": [
  {
   "cell_type": "markdown",
   "id": "91fd96de",
   "metadata": {},
   "source": [
    "# Hand Writing Recognition using LeNet"
   ]
  },
  {
   "cell_type": "markdown",
   "id": "51064b79",
   "metadata": {
    "heading_collapsed": true
   },
   "source": [
    "## Problem Statement"
   ]
  },
  {
   "cell_type": "markdown",
   "id": "b35fcfd5",
   "metadata": {
    "hidden": true
   },
   "source": [
    "Build a LeNet model to automatically recognize hand-written digits in MNIST dataset\n",
    "\n"
   ]
  },
  {
   "cell_type": "markdown",
   "id": "c45c69c1",
   "metadata": {
    "heading_collapsed": true
   },
   "source": [
    "## Given"
   ]
  },
  {
   "cell_type": "markdown",
   "id": "bb4d932b",
   "metadata": {
    "hidden": true
   },
   "source": [
    "MNIST Dataset\n",
    "\n"
   ]
  },
  {
   "cell_type": "markdown",
   "id": "7fa423fb",
   "metadata": {
    "heading_collapsed": true
   },
   "source": [
    "## Goal"
   ]
  },
  {
   "cell_type": "markdown",
   "id": "9024f37f",
   "metadata": {
    "hidden": true
   },
   "source": [
    "Recognize digits in the hand-writing recognition dataset\n"
   ]
  },
  {
   "cell_type": "markdown",
   "id": "2393a11c",
   "metadata": {},
   "source": [
    "## Brainstorming"
   ]
  },
  {
   "cell_type": "markdown",
   "id": "2a998d09",
   "metadata": {},
   "source": [
    "[Whiteboard](https://www.tutorialspoint.com/whiteboard.htm)"
   ]
  },
  {
   "cell_type": "markdown",
   "id": "68f86d48",
   "metadata": {},
   "source": [
    "# Project Pipeline"
   ]
  },
  {
   "cell_type": "markdown",
   "id": "d0c0a872",
   "metadata": {},
   "source": [
    "## **Activity** 1: Pre-processing the dataset"
   ]
  },
  {
   "cell_type": "markdown",
   "id": "fc6c593c",
   "metadata": {
    "heading_collapsed": true
   },
   "source": [
    "### **Concepts for this activity** "
   ]
  },
  {
   "cell_type": "markdown",
   "id": "721cb6ec",
   "metadata": {
    "hidden": true
   },
   "source": [
    "*Fundamentals*  \n",
    "🔴 [MNIST Dataset](http://yann.lecun.com/exdb/mnist/)  \n",
    "🔴 [Numpy reshape](https://numpy.org/doc/stable/reference/generated/numpy.reshape.html)  \n",
    "🔴 [Label binarizer](https://scikit-learn.org/stable/modules/generated/sklearn.preprocessing.LabelBinarizer.html)"
   ]
  },
  {
   "cell_type": "markdown",
   "id": "ab3128be",
   "metadata": {},
   "source": [
    "### **A**1.1 Import MNIST dataset\n"
   ]
  },
  {
   "cell_type": "code",
   "execution_count": 139,
   "id": "41946a44",
   "metadata": {},
   "outputs": [],
   "source": [
    "# Import MNIST dataset"
   ]
  },
  {
   "cell_type": "markdown",
   "id": "80b41b38",
   "metadata": {},
   "source": [
    "### **A**1.2 Load MNIST dataset\n"
   ]
  },
  {
   "cell_type": "code",
   "execution_count": 141,
   "id": "ea86df1f",
   "metadata": {},
   "outputs": [],
   "source": [
    "# Load MNIST dataset"
   ]
  },
  {
   "cell_type": "markdown",
   "id": "fb92b41c",
   "metadata": {},
   "source": [
    "### **A**1.3 Display train and test data\n"
   ]
  },
  {
   "cell_type": "code",
   "execution_count": 143,
   "id": "e8d9b927",
   "metadata": {},
   "outputs": [],
   "source": [
    "# Display one sample of the trainData and trainLabel\n",
    "# Display shape of trainData, testData, trainLabels, testLabels"
   ]
  },
  {
   "cell_type": "markdown",
   "id": "e6f61ad5",
   "metadata": {},
   "source": [
    "### **A**1.4 Reshape the design matrix\n"
   ]
  },
  {
   "cell_type": "code",
   "execution_count": 145,
   "id": "d3311c74",
   "metadata": {},
   "outputs": [],
   "source": [
    "# Reshape the train and test data to include the depth\n",
    "# Current shape - num_samples x rows x columns\n",
    "# Desired shape - num_samples x rows x columns x depth"
   ]
  },
  {
   "cell_type": "markdown",
   "id": "a4a27f87",
   "metadata": {},
   "source": [
    "### **A**1.5 Scale the data\n"
   ]
  },
  {
   "cell_type": "code",
   "execution_count": 147,
   "id": "b92dd35f",
   "metadata": {},
   "outputs": [],
   "source": [
    "# Scale image pixel intensities to the range [0, 1] (currently [0, 255])"
   ]
  },
  {
   "cell_type": "markdown",
   "id": "5ae7da03",
   "metadata": {},
   "source": [
    "### **A**1.6 Binarize the labels\n"
   ]
  },
  {
   "cell_type": "code",
   "execution_count": 149,
   "id": "610d6a8c",
   "metadata": {},
   "outputs": [],
   "source": [
    "# convert the labels from integers to vectors"
   ]
  },
  {
   "cell_type": "markdown",
   "id": "8d128374",
   "metadata": {},
   "source": [
    "### **Assessment**"
   ]
  },
  {
   "cell_type": "markdown",
   "id": "263689a6",
   "metadata": {},
   "source": [
    "* Why is the dataset split into train and test data?\n",
    "* What is meant by binarization of the data performed?\n",
    "* What are the advantages of binarizing the data?"
   ]
  },
  {
   "cell_type": "markdown",
   "id": "7fb8ac46",
   "metadata": {},
   "source": [
    "## **Activity** 2: Building the model"
   ]
  },
  {
   "cell_type": "markdown",
   "id": "a12bb156",
   "metadata": {},
   "source": [
    "### **Concepts for this activity** "
   ]
  },
  {
   "cell_type": "markdown",
   "id": "00857899",
   "metadata": {},
   "source": [
    "* Deep Learning Pipeline [**11-neural-networks-2**](https://elearning.uni-bremen.de/sendfile.php?force_download=0&type=0&file_id=9f093013335b04940ed162c742b2fc56&file_name=10-neural-networks-2.pdf#page=5))\n",
    "* What is Deep Learning [**11-neural-networks-2**](https://elearning.uni-bremen.de/sendfile.php?force_download=0&type=0&file_id=9f093013335b04940ed162c742b2fc56&file_name=10-neural-networks-2.pdf#page=6))\n",
    "* Image convolution [**11-neural-networks-2**](https://elearning.uni-bremen.de/sendfile.php?force_download=0&type=0&file_id=9f093013335b04940ed162c742b2fc56&file_name=10-neural-networks-2.pdf#page=21))\n",
    "* CNNs [**11-neural-networks-2**](https://elearning.uni-bremen.de/sendfile.php?force_download=0&type=0&file_id=9f093013335b04940ed162c742b2fc56&file_name=10-neural-networks-2.pdf#page=27))\n",
    "* Fully connected layers [**11-neural-networks-2**](https://elearning.uni-bremen.de/sendfile.php?force_download=0&type=0&file_id=9f093013335b04940ed162c742b2fc56&file_name=10-neural-networks-2.pdf#page=32))\n",
    "* Pooling [**11-neural-networks-2**](https://elearning.uni-bremen.de/sendfile.php?force_download=0&type=0&file_id=9f093013335b04940ed162c742b2fc56&file_name=10-neural-networks-2.pdf#page=38))\n",
    "* Activation Functions ([**11-neural-networks-2**](https://elearning.uni-bremen.de/sendfile.php?force_download=0&type=0&file_id=0d7d97818393935c9e67df2d8cf8284b&file_name=10-neural-networks-1.pdf#page=43))   \n",
    "\n",
    "*Fundamentals*  \n",
    "🔴 [LeNet Architecture](https://pyimagesearch.com/2016/08/01/lenet-convolutional-neural-network-in-python/)  \n",
    "🔴 [SGD Optimizer](https://www.tensorflow.org/api_docs/python/tf/keras/optimizers/experimental/SGD)"
   ]
  },
  {
   "cell_type": "markdown",
   "id": "52a60927",
   "metadata": {},
   "source": [
    "### **A**2.1 Define empty LeNet model class\n"
   ]
  },
  {
   "cell_type": "code",
   "execution_count": 151,
   "id": "ca7e67de",
   "metadata": {},
   "outputs": [],
   "source": [
    "# Define an empty class LeNet with a static method 'build' that \n",
    "# takes width, height, depth (no, of channels of image), classes as arguments and returns model"
   ]
  },
  {
   "cell_type": "markdown",
   "id": "c77c412c",
   "metadata": {},
   "source": [
    "### **A**2.3 Initialize the model\n"
   ]
  },
  {
   "cell_type": "code",
   "execution_count": 153,
   "id": "882d4076",
   "metadata": {},
   "outputs": [],
   "source": [
    "# initialize the model as Sequential(), define the input shape"
   ]
  },
  {
   "cell_type": "markdown",
   "id": "59668ea0",
   "metadata": {},
   "source": [
    "### **A**2.4 Add first convolution layer\n"
   ]
  },
  {
   "cell_type": "code",
   "execution_count": 184,
   "id": "dfb04a99",
   "metadata": {},
   "outputs": [],
   "source": [
    "# first set of CONV => RELU => POOL layers"
   ]
  },
  {
   "cell_type": "markdown",
   "id": "81d99da3",
   "metadata": {},
   "source": [
    "### **A**2.5 Add second convolution layer\n"
   ]
  },
  {
   "cell_type": "code",
   "execution_count": 157,
   "id": "3428e5e2",
   "metadata": {},
   "outputs": [],
   "source": [
    "# second set of CONV => RELU => POOL layers"
   ]
  },
  {
   "cell_type": "markdown",
   "id": "99057c20",
   "metadata": {},
   "source": [
    "### **A**2.6 Add fully connected layer\n"
   ]
  },
  {
   "cell_type": "code",
   "execution_count": 159,
   "id": "9477436c",
   "metadata": {},
   "outputs": [],
   "source": [
    "# first (and only) set of FC => RELU layers"
   ]
  },
  {
   "cell_type": "markdown",
   "id": "829f565f",
   "metadata": {},
   "source": [
    "### **A**2.7 Add softmax classifier\n"
   ]
  },
  {
   "cell_type": "code",
   "execution_count": 161,
   "id": "c424ba3d",
   "metadata": {},
   "outputs": [],
   "source": [
    "# softmax classifier"
   ]
  },
  {
   "cell_type": "markdown",
   "id": "6250a145",
   "metadata": {},
   "source": [
    "### **A**2.8 Return the constructed network architecture\n"
   ]
  },
  {
   "cell_type": "code",
   "execution_count": 163,
   "id": "10598b55",
   "metadata": {},
   "outputs": [],
   "source": [
    "# return the constructed network architecture"
   ]
  },
  {
   "cell_type": "markdown",
   "id": "d6eb041a",
   "metadata": {},
   "source": [
    "### **A**2.9 Initialize the optimizer for the model\n"
   ]
  },
  {
   "cell_type": "code",
   "execution_count": 190,
   "id": "1fc33b96",
   "metadata": {},
   "outputs": [],
   "source": [
    "# Initialize the optimizer"
   ]
  },
  {
   "cell_type": "markdown",
   "id": "4cb805a5",
   "metadata": {},
   "source": [
    "### **A**2.10 Build LeNet model\n"
   ]
  },
  {
   "cell_type": "code",
   "execution_count": 192,
   "id": "8f76545f",
   "metadata": {},
   "outputs": [],
   "source": [
    "# Build LeNet model"
   ]
  },
  {
   "cell_type": "markdown",
   "id": "c9b20d90",
   "metadata": {},
   "source": [
    "### **A**2.11 Compile model\n"
   ]
  },
  {
   "cell_type": "code",
   "execution_count": 194,
   "id": "98d916bb",
   "metadata": {},
   "outputs": [],
   "source": [
    "# Compile the model"
   ]
  },
  {
   "cell_type": "markdown",
   "id": "156bca4d",
   "metadata": {},
   "source": [
    "### **Assessment**"
   ]
  },
  {
   "cell_type": "markdown",
   "id": "5c455edd",
   "metadata": {},
   "source": [
    "* What is deep learning?\n",
    "* How is deep learning different from typical machine learning?\n",
    "* What is meant by a convolution?\n",
    "* What are the steps involved in a deep learning pipeline?\n",
    "* What is the LeNet architecture?\n",
    "* What is the no. of the layers of the model used?\n",
    "* Which activation function is used for fully connected layer in this problem?"
   ]
  },
  {
   "cell_type": "markdown",
   "id": "201f5629",
   "metadata": {},
   "source": [
    "## **Activity** 3: Training and evaluating the model"
   ]
  },
  {
   "cell_type": "markdown",
   "id": "f90a7e59",
   "metadata": {},
   "source": [
    "### **Concepts for this activity** "
   ]
  },
  {
   "cell_type": "markdown",
   "id": "de8ca255",
   "metadata": {},
   "source": [
    "*Fundamentals*  \n",
    "🔴 [Classification report](https://scikit-learn.org/stable/modules/generated/sklearn.metrics.classification_report.html)  \n",
    "🔴 [Keras model](https://www.tensorflow.org/api_docs/python/tf/keras/Model)  \n",
    "🔴 [Evaluation metrics](https://scikit-learn.org/stable/modules/generated/sklearn.metrics.precision_recall_fscore_support.html)"
   ]
  },
  {
   "cell_type": "markdown",
   "id": "75fe349e",
   "metadata": {},
   "source": [
    "### **A**3.1 Train the model\n"
   ]
  },
  {
   "cell_type": "code",
   "execution_count": 196,
   "id": "2fcbc51b",
   "metadata": {},
   "outputs": [],
   "source": [
    "# Train the model using model.fit"
   ]
  },
  {
   "cell_type": "markdown",
   "id": "59e1cbc4",
   "metadata": {
    "heading_collapsed": true
   },
   "source": [
    "### **A**3.2 Evaluate the network\n"
   ]
  },
  {
   "cell_type": "code",
   "execution_count": 198,
   "id": "37d3c70a",
   "metadata": {
    "hidden": true
   },
   "outputs": [],
   "source": [
    "# Evalute the network "
   ]
  },
  {
   "cell_type": "code",
   "execution_count": 199,
   "id": "e84ccac6",
   "metadata": {
    "hidden": true
   },
   "outputs": [
    {
     "name": "stdout",
     "output_type": "stream",
     "text": [
      "79/79 [==============================] - 1s 10ms/step\n"
     ]
    }
   ],
   "source": [
    "predictions = model.predict(testData, batch_size=128)"
   ]
  },
  {
   "cell_type": "markdown",
   "id": "88c011c5",
   "metadata": {},
   "source": [
    "### **A**3.3 Display prediction results\n"
   ]
  },
  {
   "cell_type": "code",
   "execution_count": 200,
   "id": "d0cfb2df",
   "metadata": {},
   "outputs": [],
   "source": [
    "# Display prediction results"
   ]
  },
  {
   "cell_type": "markdown",
   "id": "822bda4d",
   "metadata": {},
   "source": [
    "### **A**3.4 Plot the training loss and accuracy\n"
   ]
  },
  {
   "cell_type": "code",
   "execution_count": 203,
   "id": "e7d78daf",
   "metadata": {},
   "outputs": [],
   "source": [
    "# Plot the training loss and accuracy\n",
    "# plot the training loss and accuracy"
   ]
  },
  {
   "cell_type": "markdown",
   "id": "e773b137",
   "metadata": {},
   "source": [
    "### **Assessment**"
   ]
  },
  {
   "cell_type": "markdown",
   "id": "5049fbb3",
   "metadata": {},
   "source": [
    "* Which tensorflow function is used to train the model?\n",
    "* What is meant by evaluation metrics?\n",
    "* Which metrics are used for evaluation?\n",
    "* What is the difference between model.fit and model.predict?"
   ]
  },
  {
   "cell_type": "markdown",
   "id": "f660e27d",
   "metadata": {
    "heading_collapsed": true
   },
   "source": [
    "# References"
   ]
  },
  {
   "cell_type": "markdown",
   "id": "0b96faf2",
   "metadata": {
    "hidden": true
   },
   "source": [
    "* https://pyimagesearch.com/2016/08/01/lenet-convolutional-neural-network-in-python/\n",
    "* https://pyimagesearch.com/2021/05/22/lenet-recognizing-handwritten-digits/?_ga=2.9541565.983051749.1673515698-2010803764.1670420391\n",
    "* http://yann.lecun.com/exdb/publis/pdf/lecun-01a.pdf"
   ]
  },
  {
   "cell_type": "code",
   "execution_count": null,
   "id": "77db179b",
   "metadata": {
    "hidden": true
   },
   "outputs": [],
   "source": []
  }
 ],
 "metadata": {
  "hide_input": false,
  "kernelspec": {
   "display_name": "Python 3 (ipykernel)",
   "language": "python",
   "name": "python3"
  },
  "language_info": {
   "codemirror_mode": {
    "name": "ipython",
    "version": 3
   },
   "file_extension": ".py",
   "mimetype": "text/x-python",
   "name": "python",
   "nbconvert_exporter": "python",
   "pygments_lexer": "ipython3",
   "version": "3.8.15"
  },
  "toc": {
   "base_numbering": 1,
   "nav_menu": {},
   "number_sections": false,
   "sideBar": true,
   "skip_h1_title": true,
   "title_cell": "Table of Contents",
   "title_sidebar": "Contents",
   "toc_cell": false,
   "toc_position": {},
   "toc_section_display": true,
   "toc_window_display": true
  }
 },
 "nbformat": 4,
 "nbformat_minor": 5
}
