{
 "cells": [
  {
   "cell_type": "markdown",
   "metadata": {},
   "source": [
    "# 2. Kurtosis \n",
    "\n",
    "- Kurtosis is the measure of thickness or heaviness of the given distribution.\n",
    "- Its actually represents the height of the distribution.\n",
    "\n",
    "- Like skewness, Kurtosis is a descriptor of shape and it describes the shape of the of the distribution in terms of height or flatness. Some of the types of Kurtosis are Leptokurtic, Platykurtic and Mesokurtic.\n",
    "\n",
    "<img src=\"6.jpg\">\n",
    "It Is three types\n",
    " \n",
    "  1. mesokurtic  (distribution is normal)\n",
    "  2. platykurtic (negative excess of kurtosis)\n",
    "  3. leptokurtic (positive excess of kurtosis)\n",
    "  \n",
    "Its Formula:\n",
    "<img src=\"7.jpg\" width=400>"
   ]
  },
  {
   "cell_type": "markdown",
   "metadata": {},
   "source": [
    "### Important Parameter :\n",
    "\n",
    "- array : Input array or object having the elements.\n",
    "\n",
    "- axis : Axis along which the kurtosis value is to be measured. By default axis = 0.\n",
    "\n",
    "- fisher : Bool; Fisher’s definition is used (normal 0.0) if True; else Pearson’s definition is used (normal 3.0) if set to False.\n",
    "\n",
    "- bias : Bool; calculations are corrected for statistical bias, if set to False.\n",
    "\n",
    "- Returns : Kurtosis value of the normal distribution for the data set."
   ]
  },
  {
   "cell_type": "markdown",
   "metadata": {},
   "source": [
    "### 1. Leptokurtic\n",
    "\n",
    "- When there is a positive excess of kurtosis, the shape of the distribution is called Leptokurtic. To understand this in terms of shape, it has fatter tails and if compared to a normal distribution it has a similar peak (to be precise, such a distribution has higher peak than what is found in a normal bell-shaped distribution and significantly higher if compared to a Platykurtic distribution) and has values clustered around the centre (mean).\n",
    "\n",
    "- Example- If you are asked to collect a sample to find out the average price of the car that people own in Delhi and you decide to go only in the upper-middle-class localities, then the shape of such a sample’s distribution will be Leptokurtic.\n",
    "\n",
    "<img src=\"3.png\" width=800>"
   ]
  },
  {
   "cell_type": "markdown",
   "metadata": {},
   "source": [
    "### 2. Platykurtic\n",
    "\n",
    "- When there is a negative excess of kurtosis, the shape of the distribution is called Platykurtic.\n",
    "\n",
    "- The data points are highly dispersed along the X-axis that results in thinner tails when compared to a normal distribution and has very few values clustered around the centre (mean). Such a distribution will have little central tendency.\n",
    "\n",
    "- Example- You are asked to go to 15 districts or localities of your city to collect a sample to find out the average income of the state. You decide to go to each district and find the average income of each district by randomly choosing 40 people and finding their annual income. But when the samples were finally plotted on a histogram, the shape of the distribution seemed to be Platykurtic, because all the 15 districts you chose to go were where government households were located where income of people fell in the middle-income band with all having more or less the same average income causing the shape of your distribution to become flatter than the normal.\n",
    "\n",
    "<img src=\"4.png\">"
   ]
  },
  {
   "cell_type": "markdown",
   "metadata": {},
   "source": [
    "### 3. Mesokurtic\n",
    "\n",
    "This is when the distribution is normal. Here the tails of the distribution are neither too thin nor they are too thick and also the scores are equally divided with scores neither being clustered around the centre nor being too scattered."
   ]
  },
  {
   "cell_type": "markdown",
   "metadata": {},
   "source": [
    "## Implementation"
   ]
  },
  {
   "cell_type": "code",
   "execution_count": 1,
   "metadata": {},
   "outputs": [
    {
     "data": {
      "image/png": "[encoded data removed]",
      "text/plain": [
       "<Figure size 432x288 with 1 Axes>"
      ]
     },
     "metadata": {
      "needs_background": "light"
     },
     "output_type": "display_data"
    }
   ],
   "source": [
    "# @ https://docs.scipy.org/doc/scipy/reference/generated/scipy.stats.kurtosis.html\n",
    "\n",
    "import matplotlib.pyplot as plt\n",
    "import scipy.stats as stats\n",
    "from scipy.stats import kurtosis\n",
    "import numpy as np\n",
    "\n",
    "x = np.linspace(-5, 5, 100)\n",
    "ax = plt.subplot()\n",
    "distnames = ['laplace', 'norm', 'uniform']\n",
    "\n",
    "for distname in distnames:\n",
    "    if distname == 'uniform':\n",
    "        dist = getattr(stats, distname)(loc=-2, scale=4)\n",
    "    else:\n",
    "        dist = getattr(stats, distname)\n",
    "    data = dist.rvs(size=1000)\n",
    "    kur = kurtosis(data, fisher=True)\n",
    "    y = dist.pdf(x)\n",
    "    ax.plot(x, y, label=\"{}, {}\".format(distname, round(kur, 3)))"
   ]
  }
 ],
 "metadata": {
  "kernelspec": {
   "display_name": "Python 3",
   "language": "python",
   "name": "python3"
  },
  "language_info": {
   "codemirror_mode": {
    "name": "ipython",
    "version": 3
   },
   "file_extension": ".py",
   "mimetype": "text/x-python",
   "name": "python",
   "nbconvert_exporter": "python",
   "pygments_lexer": "ipython3",
   "version": "3.7.6"
  }
 },
 "nbformat": 4,
 "nbformat_minor": 4
}
