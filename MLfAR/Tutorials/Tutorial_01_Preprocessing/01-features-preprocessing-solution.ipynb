{
 "cells": [
  {
   "cell_type": "markdown",
   "id": "8c949798",
   "metadata": {},
   "source": [
    "# Tutorial: Features and Preprocessing\n",
    "\n",
    "In this notebook, we will implement the Naive Feature Selector algorithm from the lecture and apply it on a real dataset. Let's start off by importing everything we need for this tutorial. Please do not use any other imports for this notebook."
   ]
  },
  {
   "cell_type": "code",
   "execution_count": null,
   "id": "cc2ddd51",
   "metadata": {},
   "outputs": [],
   "source": [
    "import numpy as np\n",
    "import matplotlib.pyplot as plt\n",
    "from sklearn.datasets import load_breast_cancer\n",
    "from sklearn.neighbors import KNeighborsClassifier\n",
    "%matplotlib inline"
   ]
  },
  {
   "cell_type": "markdown",
   "id": "32da66cf",
   "metadata": {},
   "source": [
    "### Task 1\n",
    "\n",
    "Let's begin by loading the dataset and exploring it. Run the cell below and then inspect the data, which is provided as a [Python dictionary](https://docs.python.org/3/tutorial/datastructures.html#dictionaries). Use the `print()` and `dict.keys()` functions to see its content and the answer the following questions:\n",
    "\n",
    "    1. How many samples does the dataset contain?\n",
    "    2. How many features does each instance consist of?\n",
    "    3. Is the data labeled (and if so, how many classes are there)?\n",
    "    4. What are the names of the features?"
   ]
  },
  {
   "cell_type": "code",
   "execution_count": null,
   "id": "03bbc9a9",
   "metadata": {},
   "outputs": [],
   "source": [
    "# Let's load the data\n",
    "cancer_data = load_breast_cancer()"
   ]
  },
  {
   "cell_type": "code",
   "execution_count": null,
   "id": "bb5e3817",
   "metadata": {
    "scrolled": true
   },
   "outputs": [],
   "source": [
    "# inspect the data \n",
    "\n",
    "print(cancer_data.keys())\n",
    "\n",
    "X = cancer_data.data\n",
    "y = cancer_data.target\n",
    "\n",
    "for i, name in enumerate(cancer_data.feature_names):\n",
    "    print(f\"Feature {i} is called {name}.\")\n"
   ]
  },
  {
   "cell_type": "markdown",
   "id": "3d328545",
   "metadata": {},
   "source": [
    "### Task 2\n",
    "\n",
    "Now, let's implement the naive feature selector. Complete the methods stub below and use it to select the three features with the strongest feature-class correlation. What are their names?\n"
   ]
  },
  {
   "cell_type": "code",
   "execution_count": null,
   "id": "303b8ab9",
   "metadata": {},
   "outputs": [],
   "source": [
    "def naive_feature_selector(X: np.ndarray, y: np.ndarray, k: int) -> list[int]:\n",
    "    \n",
    "    # calculate correlations\n",
    "    R = np.corrcoef(X, y, rowvar=False)\n",
    "    \n",
    "    # select the k features with the strongest feature-class correlations\n",
    "    f = np.argsort(np.abs(R[:-1, -1]))[-k:]\n",
    "    \n",
    "    return  f"
   ]
  },
  {
   "cell_type": "code",
   "execution_count": null,
   "id": "4951fa0b",
   "metadata": {},
   "outputs": [],
   "source": [
    "indices = naive_feature_selector(X, y, 3)\n",
    "print(f\"The three features most strongly correlating \" \n",
    "      f\"with the classes are called {', '.join(cancer_data.feature_names[indices])}.\")"
   ]
  },
  {
   "cell_type": "markdown",
   "id": "2e90f1f7",
   "metadata": {},
   "source": [
    "### Task 3\n",
    "\n",
    "Now, we want to try out different values for k. First split the data into a training set and a test set. The test set should consist of 50 instances. Then create a for loop to select k values and train a classifier and predict the performance on the test samples using the provided black box classifier. Don't worry, we'll learn much more about the used classfication method over the course of the semester ;) Store the classification results for k-values ranging from 1 to 25."
   ]
  },
  {
   "cell_type": "code",
   "execution_count": null,
   "id": "f6848008",
   "metadata": {},
   "outputs": [],
   "source": [
    "# split the dataset into training and test sets\n",
    "N = 50\n",
    "\n",
    "X_train = X[:-N, :]\n",
    "X_test = X[-N:, :]\n",
    "y_train = y[:-N]\n",
    "y_test = y[-N:]\n",
    "\n",
    "# we'll consider this a blackbox classifier today\n",
    "def train_and_predict(feature_indices: list[int]) -> float:\n",
    "    \n",
    "    # train the classifier\n",
    "    classifier = KNeighborsClassifier(n_neighbors=1)\n",
    "    classifier.fit(X_train[:, features], y_train)\n",
    "    \n",
    "    # predict using trained classifier\n",
    "    pred = classifier.predict(X_test[:, features])\n",
    "    \n",
    "    # return the score\n",
    "    return np.mean(pred==y_test) \n",
    "\n",
    "# initialise an empty array to store the prediction scores\n",
    "scores = np.empty(25)\n",
    "\n",
    "# loop over values for k from 1 to 25\n",
    "for k in range(25):\n",
    "    \n",
    "    # select k features\n",
    "    features = naive_feature_selector(X_train, y_train, k+1)\n",
    "    \n",
    "    # train and predict\n",
    "    scores[k] = train_and_predict(features)\n",
    "\n",
    "    "
   ]
  },
  {
   "cell_type": "markdown",
   "id": "8a8dc8f0",
   "metadata": {},
   "source": [
    "### Task 4\n",
    "\n",
    "Finally, visualise your results using matplotlib. Make sure to set a title for your figure and label your axes. How do you explain the shape of your plot?"
   ]
  },
  {
   "cell_type": "code",
   "execution_count": null,
   "id": "08e95be3",
   "metadata": {},
   "outputs": [],
   "source": [
    "# create a new figure\n",
    "plt.figure()\n",
    "\n",
    "# set axis limits\n",
    "plt.xlim(1,25)\n",
    "plt.ylim(0,1)\n",
    "\n",
    "# define a grid\n",
    "plt.grid(linestyle='--', linewidth=0.5)\n",
    "\n",
    "# label the axes\n",
    "plt.xlabel(\"# Features\")\n",
    "plt.ylabel(\"Classification Score\")\n",
    "\n",
    "# set a figure title\n",
    "plt.title(\"Test Performance\")\n",
    "\n",
    "# plot the performance\n",
    "plt.plot(range(1,26), scores)\n",
    "\n"
   ]
  },
  {
   "cell_type": "markdown",
   "id": "629bbc71",
   "metadata": {},
   "source": [
    "### Bonus Task\n",
    "Also implement the calculation of merit and the GreedyCFS algorithm from the lecture. Then rerun the experiments above and compare them visually in your plot."
   ]
  },
  {
   "cell_type": "code",
   "execution_count": null,
   "id": "bb1b2815",
   "metadata": {},
   "outputs": [],
   "source": []
  }
 ],
 "metadata": {
  "kernelspec": {
   "display_name": "Python 3.8.10 64-bit",
   "language": "python",
   "name": "python3"
  },
  "language_info": {
   "codemirror_mode": {
    "name": "ipython",
    "version": 3
   },
   "file_extension": ".py",
   "mimetype": "text/x-python",
   "name": "python",
   "nbconvert_exporter": "python",
   "pygments_lexer": "ipython3",
   "version": "3.8.10"
  },
  "vscode": {
   "interpreter": {
    "hash": "916dbcbb3f70747c44a77c7bcd40155683ae19c65e1c03b4aa3499c5328201f1"
   }
  }
 },
 "nbformat": 4,
 "nbformat_minor": 5
}
