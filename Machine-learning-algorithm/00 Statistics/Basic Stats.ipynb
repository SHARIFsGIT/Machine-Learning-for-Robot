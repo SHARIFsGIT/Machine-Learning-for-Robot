{
 "cells": [
  {
   "cell_type": "markdown",
   "metadata": {},
   "source": [
    "# 1. Introduction OF Statistics\n",
    "\n",
    "-  Statistics is the branch of mathematics dealing with the collection, analysis, interpretation, and presentation of masses of numerical data.\n",
    "\n",
    "### Before Going 1st we have to know types of Data\n",
    " \n",
    " - Actually There Are Mainly Two types of data\n",
    "    1. Numerical\n",
    "    2. Categorical \n",
    "    \n",
    "### 1. In Numerical it divided further two types :\n",
    "\n",
    "          a. Discrete (Use in classification)  \n",
    "          b. Continuous (Use In Regression)\n",
    "    \n",
    " a. Discrete Data Type:\n",
    " - The Value Which Counted As Whole or fixed value.\n",
    " \n",
    " ex. 1,45,73 but not 23.42,36.54\n",
    " \n",
    " - integer value is discrete value.\n",
    " \n",
    " ex. age,no. of vechile\n",
    " \n",
    " b. Continous Data Type:\n",
    " - Here Value Contain Range,Measurement \n",
    " \n",
    " eg. 1.3,1.5,1.6 but not 1,5,6\n",
    " \n",
    " - it is floating type value\n",
    " \n",
    " Eg. weight in kg, House price\n",
    " \n",
    "### 2. Categorical  Also Divided Two types :\n",
    "\n",
    "          a. Ordinal      \n",
    "          b. Nominal\n",
    "          \n",
    " a. Ordinal :\n",
    " - These are meaningfully ordered\n",
    " \n",
    " Eg.Rating Of Product, Grade Of Mark\n",
    " \n",
    " - Here the Quality Increase Lower to Higher and Higher to Lower in order.\n",
    " \n",
    " b. Nominal :\n",
    " - Here No Intrinsic order of the label\n",
    " \n",
    " - all label are not in order.\n",
    " \n",
    " Eg. Color - as in color there are many color like Red,green,black etc but can you find any order between them , Ans is no so these type are nominal .\n",
    " \n",
    "- Basically Categorical are in String (Object) Format\n",
    "\n",
    "- Numerical are Float or int Format in dataset."
   ]
  },
  {
   "cell_type": "markdown",
   "metadata": {},
   "source": [
    "### Now You Learn About Statistics\n",
    "\n",
    "### Types Of Statistics\n",
    "\n",
    "Mainly Two Types:\n",
    "      1. Descriptive\n",
    "      2. Inferential\n",
    "      \n",
    "### 1. Descriptive Statistics\n",
    "\n",
    "- This is used to describe things, frequently group of peoples.\n",
    "\n",
    "Eg. Mean,Median,Mode,Variance,Standard Deviation\n",
    "\n",
    "### 1. Inferential Statistics\n",
    "\n",
    "- This is used to make inference and draw conclusions.\n",
    "\n",
    "Eg. T-Tset,Chi-Square,Anova Test\n",
    "\n",
    "\n",
    "### In Upcoming Day's I am Going To Cover all this topic With Python Implementation So Stay Tuned With Me."
   ]
  },
  {
   "cell_type": "markdown",
   "metadata": {},
   "source": [
    "<img src=\"2.jpg\">"
   ]
  }
 ],
 "metadata": {
  "kernelspec": {
   "display_name": "Python 3",
   "language": "python",
   "name": "python3"
  },
  "language_info": {
   "codemirror_mode": {
    "name": "ipython",
    "version": 3
   },
   "file_extension": ".py",
   "mimetype": "text/x-python",
   "name": "python",
   "nbconvert_exporter": "python",
   "pygments_lexer": "ipython3",
   "version": "3.7.6"
  }
 },
 "nbformat": 4,
 "nbformat_minor": 4
}
