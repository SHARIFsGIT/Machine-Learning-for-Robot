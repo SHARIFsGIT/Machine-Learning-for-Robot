{
 "cells": [
  {
   "cell_type": "markdown",
   "id": "2643be60-0cbd-4ac0-9f69-dfc3499d10ba",
   "metadata": {},
   "source": [
    "# k-Means\n",
    "\n",
    "Your task is to implement the k-means algorithm."
   ]
  },
  {
   "cell_type": "code",
   "execution_count": null,
   "id": "7a6ec76f-417c-44e1-a377-a152ff98119f",
   "metadata": {},
   "outputs": [],
   "source": [
    "%pylab inline\n",
    "from sklearn import datasets"
   ]
  },
  {
   "cell_type": "markdown",
   "id": "077e5ec2-6608-4d44-916b-5a1e395888d1",
   "metadata": {},
   "source": [
    "## Artificial Dataset\n",
    "\n",
    "We will work with an artificial 2D dataset that contains 3 clusters."
   ]
  },
  {
   "cell_type": "code",
   "execution_count": null,
   "id": "332ff22f-c6e3-4559-985b-70e0f067a965",
   "metadata": {},
   "outputs": [],
   "source": [
    "n_samples = 200\n",
    "random_state = np.random.RandomState(10)\n",
    "X, _ = datasets.make_blobs(n_samples=n_samples, cluster_std=[1.0, 2.5, 0.5], random_state=random_state)\n",
    "\n",
    "plt.scatter(X[:, 0], X[:, 1])\n",
    "plt.xlabel(\"$x_1$\")\n",
    "plt.ylabel(\"$x_2$\")\n",
    "plt.title(\"Artificial dataset\")\n",
    "plt.tight_layout()"
   ]
  },
  {
   "cell_type": "markdown",
   "id": "55dba860-d42b-49e3-be2f-c1611f477bd7",
   "metadata": {},
   "source": [
    "## k-Means Algorithm\n",
    "\n",
    "This is the outline of the k-means algorithm. You will implement its steps in the following sections."
   ]
  },
  {
   "cell_type": "code",
   "execution_count": null,
   "id": "218c3202-a16c-4798-b2f0-20eeec0430af",
   "metadata": {},
   "outputs": [],
   "source": [
    "class KMeans:\n",
    "    \"\"\"k-means clustering algorithm.\n",
    "\n",
    "    Parameters\n",
    "    ----------\n",
    "    k : int\n",
    "        Number of clusters\n",
    "\n",
    "    rng_seed : int, optional (default: 0)\n",
    "        Seed of random number generator\n",
    "    \"\"\"\n",
    "    def __init__(self, k, rng_seed=0):\n",
    "        self.k = k\n",
    "        self.rng_seed = rng_seed\n",
    "\n",
    "    def fit(self, X):\n",
    "        \"\"\"Run k-means clustering on dataset and return cluster centers for given samples.\n",
    "\n",
    "        Parameters\n",
    "        ----------\n",
    "        X : array, shape (n_samples, n_features)\n",
    "            Dataset\n",
    "\n",
    "        Returns\n",
    "        -------\n",
    "        nearest_centers : array, shape (n_samples,)\n",
    "            Indices of nearest center for each sample / cluster index\n",
    "        \"\"\"\n",
    "        self.means = randomly_initialize_cluster_centers(X, self.k, self.rng_seed)\n",
    "        while True:\n",
    "            nearest_centers = assign_all_datapoints_to_their_nearest_center(X, self.means)\n",
    "            last_means = self.means\n",
    "            self.means = relocate_centers_to_mean_of_assigned_datapoints(X, last_means, nearest_centers)\n",
    "            if converged(last_means, self.means):\n",
    "                break\n",
    "        return self"
   ]
  },
  {
   "cell_type": "markdown",
   "id": "40729b25-dcc5-4c01-8bef-270283952a7f",
   "metadata": {},
   "source": [
    "### (1) Randomly initialize cluster centers:\n",
    "\n",
    "Make initial guesses for each cluster mean (center) $\\boldsymbol{m}_1, \\boldsymbol{m}_2, \\ldots, \\boldsymbol{m}_k$\n",
    "\n",
    "**What is a good guess?**"
   ]
  },
  {
   "cell_type": "code",
   "execution_count": null,
   "id": "2ae5024c-422e-46e1-b8e5-6b98f9b6d1d4",
   "metadata": {},
   "outputs": [],
   "source": [
    "def randomly_initialize_cluster_centers(X, k, rng_seed):\n",
    "    \"\"\"Randomly initialize cluster centers.\n",
    "\n",
    "    Parameters\n",
    "    ----------\n",
    "    X : array, shape (n_samples, n_features)\n",
    "        Dataset\n",
    "\n",
    "    k : int\n",
    "        Number of clusters\n",
    "\n",
    "    Returns\n",
    "    -------\n",
    "    means : array, shape (k, n_features)\n",
    "        Initial centers\n",
    "    \"\"\"\n",
    "    rng = np.random.default_rng(rng_seed)\n",
    "    indices_of_initial_means = rng.integers(0, len(X), k)\n",
    "    means = X[indices_of_initial_means]\n",
    "    return means"
   ]
  },
  {
   "cell_type": "markdown",
   "id": "70312a19-8328-4aaf-a499-773c05431ee3",
   "metadata": {},
   "source": [
    "### (2) Assign all datapoints to their nearest center\n",
    "Partition the observations based on the distances to cluster means: $$C_i^l = \\{\\boldsymbol{x}_p: ||\\boldsymbol{x}_p - \\boldsymbol{m}_i^l||_2 \\leq || \\boldsymbol{x}_p - \\boldsymbol{m}_i^j||_2\\, \\forall 1 \\leq j \\leq k\\}$$\n",
    "\n",
    "<center><img src=\"kmeans.png\" width=600px /></center>"
   ]
  },
  {
   "cell_type": "code",
   "execution_count": null,
   "id": "3bfb328c-b6b3-4f1f-a968-b6f0bc991b8c",
   "metadata": {},
   "outputs": [],
   "source": [
    "def assign_all_datapoints_to_their_nearest_center(X, means):\n",
    "    \"\"\"Assign all datapoints to their nearest center.\n",
    "\n",
    "    Parameters\n",
    "    ----------\n",
    "    X : array, shape (n_samples, n_features)\n",
    "        Dataset\n",
    "\n",
    "    means : array, shape (k, n_features)\n",
    "        Cluster centers\n",
    "\n",
    "    Returns\n",
    "    -------\n",
    "    nearest_centers : array, shape (n_samples,)\n",
    "        Indices of nearest cluster centers per sample\n",
    "    \"\"\"\n",
    "    nearest_centers = np.zeros(len(X), dtype=int)\n",
    "    for i in range(len(X)):\n",
    "        distances_to_means = np.linalg.norm(X[i] - means, axis=1)\n",
    "        nearest_centers[i] = np.argmin(distances_to_means)\n",
    "    return nearest_centers"
   ]
  },
  {
   "cell_type": "markdown",
   "id": "0582b510-f849-4f4f-b66c-d8d3c36624b5",
   "metadata": {},
   "source": [
    "### (3) Relocate centers to mean of assigned datapoints\n",
    "\n",
    "Replace $\\boldsymbol{m}_i^l$ with the mean of all the samples in cluster $l$, i.e., $$\\boldsymbol{m}^l_{i+1} = \\frac{1}{|C^l_i|} \\sum_{\\boldsymbol{x}_p \\in C^l_i} \\boldsymbol{x}_p$$"
   ]
  },
  {
   "cell_type": "code",
   "execution_count": null,
   "id": "faf6ecba-cb61-4805-810a-22a549a2834b",
   "metadata": {},
   "outputs": [],
   "source": [
    "def relocate_centers_to_mean_of_assigned_datapoints(X, means, nearest_centers):\n",
    "    \"\"\"Relocate centers to mean of assigned datapoints.\n",
    "\n",
    "    Parameters\n",
    "    ----------\n",
    "    X : array, shape (n_samples, n_features)\n",
    "        Dataset\n",
    "\n",
    "    means : array, shape (k, n_features)\n",
    "        Current cluster centers\n",
    "\n",
    "    nearest_centers : array, shape (n_samples,)\n",
    "        Indices of nearest cluster centers per sample\n",
    "\n",
    "    Returns\n",
    "    -------\n",
    "    new_means : array, shape (k, n_features)\n",
    "        New cluster centers\n",
    "    \"\"\"\n",
    "    new_means = np.empty_like(means)\n",
    "    for l in range(len(means)):\n",
    "        X_cluster_l = X[np.where(nearest_centers == l)]\n",
    "        new_means[l] = np.mean(X_cluster_l, axis=0)\n",
    "    return new_means"
   ]
  },
  {
   "cell_type": "markdown",
   "id": "05234bd7-0653-43ce-bbef-c24ca6e9c684",
   "metadata": {},
   "source": [
    "### (4) Repeat 2. and 3. until convergence"
   ]
  },
  {
   "cell_type": "code",
   "execution_count": null,
   "id": "6e258dab-708b-4331-8d6b-447de87c2d56",
   "metadata": {},
   "outputs": [],
   "source": [
    "def converged(last_means, means):\n",
    "    \"\"\"Check if k-means converged.\n",
    "\n",
    "    Parameters\n",
    "    ----------\n",
    "    last_means : array, shape (k, n_features)\n",
    "        Last cluster centers\n",
    "\n",
    "    means : array, shape (k, n_features)\n",
    "        Current cluster centers\n",
    "\n",
    "    Returns\n",
    "    -------\n",
    "    converged : bool\n",
    "        Did k-means converge?\n",
    "    \"\"\"\n",
    "    diff_between_means = np.linalg.norm(means - last_means)\n",
    "    return diff_between_means < 1e-10"
   ]
  },
  {
   "cell_type": "markdown",
   "id": "b42d5308-cfb8-446d-b6e4-437810fa9429",
   "metadata": {
    "tags": []
   },
   "source": [
    "## Let's Use It!"
   ]
  },
  {
   "cell_type": "code",
   "execution_count": null,
   "id": "605d0c7d-b239-47df-ab96-1764d2c59889",
   "metadata": {},
   "outputs": [],
   "source": [
    "kmeans = KMeans(k=3, rng_seed=1)\n",
    "kmeans.fit(X)"
   ]
  },
  {
   "cell_type": "code",
   "execution_count": null,
   "id": "934138c7-7017-4175-9a6a-ad214ecb4a4d",
   "metadata": {},
   "outputs": [],
   "source": [
    "centers = kmeans.means\n",
    "clusters = assign_all_datapoints_to_their_nearest_center(X, centers)"
   ]
  },
  {
   "cell_type": "code",
   "execution_count": null,
   "id": "0e092924-2802-45b7-a906-b0007efcc360",
   "metadata": {},
   "outputs": [],
   "source": [
    "plt.scatter(X[:, 0], X[:, 1], c=clusters, label=\"Dataset (color indicates cluster)\")\n",
    "plt.scatter(centers[:, 0], centers[:, 1], c=\"r\", label=\"Cluster centers\", s=200)\n",
    "plt.legend()\n",
    "plt.xlabel(\"$x_1$\")\n",
    "plt.ylabel(\"$x_2$\")\n",
    "plt.title(\"Clusters\")\n",
    "plt.tight_layout()"
   ]
  }
 ],
 "metadata": {
  "kernelspec": {
   "display_name": "Python 3 (ipykernel)",
   "language": "python",
   "name": "python3"
  },
  "language_info": {
   "codemirror_mode": {
    "name": "ipython",
    "version": 3
   },
   "file_extension": ".py",
   "mimetype": "text/x-python",
   "name": "python",
   "nbconvert_exporter": "python",
   "pygments_lexer": "ipython3",
   "version": "3.9.13"
  }
 },
 "nbformat": 4,
 "nbformat_minor": 5
}
