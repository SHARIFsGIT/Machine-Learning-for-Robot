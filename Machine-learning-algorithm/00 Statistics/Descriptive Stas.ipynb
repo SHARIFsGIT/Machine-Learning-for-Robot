{
 "cells": [
  {
   "cell_type": "markdown",
   "metadata": {},
   "source": [
    "## Variability:\n",
    "\n",
    "- Variability (also known as Statistical Dispersion) is another feature of descriptive statistics. Measures of central tendency and variability together comprise of descriptive statistics. Variability shows the spread of a data set around a point."
   ]
  },
  {
   "cell_type": "markdown",
   "metadata": {},
   "source": [
    "## Measures of Variablity\n",
    "\n",
    "Following are some of the measures of variablity that R offers to differentiate between data sets:\n",
    "\n",
    "- Variance\n",
    "- Standard Deviation\n",
    "- Range\n",
    "- Mean Deviation\n",
    "- Interquartile Range"
   ]
  },
  {
   "cell_type": "markdown",
   "metadata": {},
   "source": [
    "# 1. Variance(σ²)\n",
    "\n",
    "- Variance is a measure that shows how far is each value from a particular point, preferably mean value. Mathematically, it is defined as the average of squared differences from the mean value.\n",
    "\n",
    "Formula For Variance:\n",
    "\n",
    "\n",
    "<img src=\"1.svg\" width=250>\n",
    "\n",
    "Whree\n",
    "- σ² specifies variance of the data set\n",
    "- xi specifies i^th value in data set\n",
    "-  μ specifies the mean of data set\n",
    "- n specifies total number of observations"
   ]
  },
  {
   "cell_type": "markdown",
   "metadata": {},
   "source": [
    "### Implement Variance Using Python"
   ]
  },
  {
   "cell_type": "code",
   "execution_count": 1,
   "metadata": {},
   "outputs": [
    {
     "name": "stdout",
     "output_type": "stream",
     "text": [
      "Variance of sample set is 0.40924\n"
     ]
    }
   ],
   "source": [
    "# Python code to demonstrate the working of \n",
    "# variance() function of Statistics Module \n",
    "\n",
    "# Importing Statistics module \n",
    "import statistics \n",
    "\n",
    "# Creating a sample of data \n",
    "sample = [2.74, 1.23, 2.63, 2.22, 3, 1.98] \n",
    "\n",
    "# Prints variance of the sample set \n",
    "\n",
    "# Function will automatically calculate  \n",
    "print(\"Variance of sample set is % s\"%(statistics.variance(sample))) \n"
   ]
  },
  {
   "cell_type": "markdown",
   "metadata": {},
   "source": [
    "### Applications :\n",
    "- Variance is a very important tool in Statistics and handling huge amounts of data. Like, when the sample mean is unknown  then variance is used as biased estimator. \n",
    "- Real world observations like the value of increase and decrease of all shares of a company throughout the day cannot be all sets of possible observations. As such, variance is calculated from a finite set of data, although it won’t match when calculated taking the whole population into consideration, but still it will give the user an estimate which is enough to chalk out other calculations."
   ]
  },
  {
   "cell_type": "markdown",
   "metadata": {},
   "source": [
    "# 2. Standard Deviation (σ)\n",
    "\n",
    "- Standard deviation in statistics measures the spreaness of data values with respect to mean and mathematically, is calculated as square root of variance.\n",
    "- Basically It is the Root Over of Variance.\n",
    "- Standard Deviation is a measure of spread in Statistics. It is used to quantify the measure of spread, variation of a set of data values. It is very much similar to variance, gives the measure of deviation whereas variance provides the squared value.\n",
    "\n",
    "Formula :\n",
    "\n",
    "<img src=\"2.svg\" width=\"250\">\n",
    "\n",
    "\n",
    "Where\n",
    "\n",
    "- σ specifies standard deviation of the data set\n",
    "- xi specifies i^th value in data set\n",
    "- μ specifies the mean of data set\n",
    "- n specifies total number of observations"
   ]
  },
  {
   "cell_type": "markdown",
   "metadata": {},
   "source": [
    "## Implement  Standard Deviation Using Python"
   ]
  },
  {
   "cell_type": "code",
   "execution_count": 2,
   "metadata": {},
   "outputs": [
    {
     "name": "stdout",
     "output_type": "stream",
     "text": [
      "Standard Deviation of sample is 1.5811388300841898 \n"
     ]
    }
   ],
   "source": [
    "# Python code to demonstrate stdev() function \n",
    "\n",
    "# importing Statistics module \n",
    "import statistics \n",
    "\n",
    "# creating a simple data - set \n",
    "sample = [1, 2, 3, 4, 5] \n",
    "\n",
    "# Prints standard deviation \n",
    "# xbar is set to default value of 1 \n",
    "print(\"Standard Deviation of sample is % s \"% (statistics.stdev(sample))) \n"
   ]
  },
  {
   "cell_type": "markdown",
   "metadata": {},
   "source": [
    "## Applications :\n",
    "\n",
    "- Standard Deviation is highly essential in the field of statistical maths and statistical study. \n",
    "\n",
    "- It is commonly used to measure confidence in statistical calculations. For example, the margin of error in calculating marks of an exam is determined by calculating the expected standard deviation in the results if the same exam were to be conducted multiple times.\n",
    "\n",
    "- It is very useful in the field of financial studies as well as it helps to determine the margin of profit and loss. The standard deviation is also important, where the standard deviation on the rate of return on an investment is a measure of the volatility of the investment."
   ]
  },
  {
   "cell_type": "markdown",
   "metadata": {},
   "source": [
    "# 3. Range \n",
    "\n",
    "- Range is the difference between maximum and minimum value of a data set.\n",
    "- range() is commonly used in for looping hence, knowledge of same is key aspect when dealing with any kind of Python code. Most common use of range() function in Python is to iterate sequence type (List, string etc.. ) with for and while loop."
   ]
  },
  {
   "cell_type": "markdown",
   "metadata": {},
   "source": [
    "### Python range() Basics :\n",
    "\n",
    "- In simple terms, range() allows user to generate a series of numbers within a given range. Depending on how many arguments user is passing to the function, user can decide where that series of numbers will begin and end as well as how big the difference will be between one number and the next.range() takes mainly three arguments.\n",
    "\n",
    "    1. start: integer starting from which the sequence of integers is to be returned\n",
    "    2. stop: integer before which the sequence of integers is to be returned.The range of integers end at stop – 1.\n",
    "    4. step: integer value which determines the increment between each integer in the sequence\n",
    "    \n",
    "For Know More Refer : https://www.geeksforgeeks.org/python-range-function/"
   ]
  },
  {
   "cell_type": "markdown",
   "metadata": {},
   "source": [
    "# 4. Mean Deviation (MD)\n",
    "\n",
    "- Mean deviation is a measure calculated by taking an average of the arithmetic mean of the absolute difference of each value from the central value. Central value can be mean, median, or mode.\n",
    "\n",
    "- Pandas provide a method to make Calculation of MAD (Mean Absolute Deviation) very easy. MAD is defined as average distance between each value and mean.\n",
    "\n",
    "Formula :\n",
    "\n",
    "<img src=\"5.svg\" width=\"250\">\n",
    "\n",
    "\n",
    "Where\n",
    "\n",
    "- xi specifies ith value in data set\n",
    "- μ specifies the mean of data set\n",
    "- n specifies total number of observations"
   ]
  },
  {
   "cell_type": "markdown",
   "metadata": {},
   "source": [
    "## Implementation Using Python"
   ]
  },
  {
   "cell_type": "code",
   "execution_count": 3,
   "metadata": {},
   "outputs": [
    {
     "name": "stdout",
     "output_type": "stream",
     "text": [
      "Mean Deviation Of This List Is:  4.166666666666667\n"
     ]
    }
   ],
   "source": [
    "# importing pandas module \n",
    "import pandas as pd \n",
    "\n",
    "# importing numpy module \n",
    "import numpy as np \n",
    "\n",
    "# creating list \n",
    "list =[5, 5, 8, 12, 15, 16] \n",
    "\n",
    "# creating series \n",
    "series = pd.Series(list) \n",
    "\n",
    "# calling .mad() method \n",
    "print(\"Mean Deviation Of This List Is: \",series.mad())\n"
   ]
  },
  {
   "cell_type": "markdown",
   "metadata": {},
   "source": [
    "# 5. Interquartile Range (IQR)\n",
    "\n",
    "- Before going to IQR first we have to know what is a quartile :\n",
    "\n",
    "#### Quartiles :\n",
    "\n",
    "- A quartile is a type of quantile. \n",
    "- The first quartile (Q1)- is defined as the middle number between the smallest number and the median of the data set\n",
    "- the second quartile (Q2) – median of the given data set \n",
    "- the third quartile (Q3)- is the middle number between the median and the largest value of the data set.\n",
    "\n",
    "#### Interquartile Range :\n",
    "\n",
    "- The interquartile range (IQR) is the difference between the 75th and 25th percentile of the data. It is a measure of the dispersion similar to standard deviation or variance, but is much more robust against outliers \n",
    "\n",
    "- The interquartile range (IQR), also called as midspread or middle 50%, or technically H-spread is the difference between the third quartile (Q3) and the first quartile (Q1). \n",
    "\n",
    "- It covers the center of the distribution and contains 50% of the observations. \n",
    "\n",
    "- Mathematically, the interquartile range is depicted as: IQR = Q3 – Q1\n",
    "\n",
    "  Where\n",
    "   \n",
    "   Q3 specifies the median of n largest values\n",
    "   \n",
    "   Q1 specifies the median of n smallest values\n",
    "\n"
   ]
  },
  {
   "cell_type": "markdown",
   "metadata": {},
   "source": [
    "### Implementation Using Python\n",
    "\n",
    "- Stats Module provide to find IQR Of a data set."
   ]
  },
  {
   "cell_type": "code",
   "execution_count": 4,
   "metadata": {},
   "outputs": [
    {
     "data": {
      "text/plain": [
       "8.5"
      ]
     },
     "execution_count": 4,
     "metadata": {},
     "output_type": "execute_result"
    }
   ],
   "source": [
    "from scipy.stats import iqr\n",
    "\n",
    "data = [5, 5, 8, 12, 15, 16] \n",
    "\n",
    "iqr(data)"
   ]
  }
 ],
 "metadata": {
  "kernelspec": {
   "display_name": "Python 3",
   "language": "python",
   "name": "python3"
  },
  "language_info": {
   "codemirror_mode": {
    "name": "ipython",
    "version": 3
   },
   "file_extension": ".py",
   "mimetype": "text/x-python",
   "name": "python",
   "nbconvert_exporter": "python",
   "pygments_lexer": "ipython3",
   "version": "3.7.6"
  }
 },
 "nbformat": 4,
 "nbformat_minor": 4
}
